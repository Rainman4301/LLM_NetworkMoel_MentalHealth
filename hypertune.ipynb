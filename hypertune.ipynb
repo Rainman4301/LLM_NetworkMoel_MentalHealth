{
 "cells": [
  {
   "cell_type": "code",
   "execution_count": 1,
   "id": "2e9a0e36",
   "metadata": {},
   "outputs": [
    {
     "name": "stderr",
     "output_type": "stream",
     "text": [
      "d:\\miniconda3\\envs\\MDS1\\Lib\\site-packages\\tqdm\\auto.py:21: TqdmWarning: IProgress not found. Please update jupyter and ipywidgets. See https://ipywidgets.readthedocs.io/en/stable/user_install.html\n",
      "  from .autonotebook import tqdm as notebook_tqdm\n"
     ]
    }
   ],
   "source": [
    "import os\n",
    "import pandas as pd\n",
    "import numpy as np\n",
    "from bertopic import BERTopic\n",
    "from sklearn.feature_extraction.text import CountVectorizer\n",
    "from umap import UMAP\n",
    "from hdbscan import HDBSCAN\n",
    "from bertopic.representation import MaximalMarginalRelevance\n",
    "from bertopic.vectorizers import ClassTfidfTransformer\n",
    "from gensim.models.coherencemodel import CoherenceModel\n",
    "from gensim.corpora import Dictionary\n",
    "from sklearn.metrics import silhouette_score\n",
    "import random\n",
    "from itertools import product\n",
    "from sentence_transformers import SentenceTransformer, models\n",
    "\n",
    "def topic_modeling(platform, label, original_cols, stopwords, min_df=1, max_df=0.9,\n",
    "                   n_neighbors=15, min_cluster_size=30, min_samples=10, nr_topics='auto',\n",
    "                   use_pretrained_embed=True, n_samples=100):\n",
    "    \n",
    "    # Set paths\n",
    "    cur_dir = os.getcwd()\n",
    "    target_path = os.path.join(cur_dir, 'data', f'{platform}_data', 'berttopic_label', f'{label}')\n",
    "    label_df = pd.read_csv(os.path.join(target_path, \"label_df.csv\"))\n",
    "\n",
    "    # Load documents\n",
    "    with open(os.path.join(target_path, 'unlemma_dc'), 'r', encoding='utf-8') as f:\n",
    "        unlemma_dc = [line.strip() for line in f if line.strip()]\n",
    "    if not unlemma_dc:\n",
    "        print(f\"No valid documents remain after preprocessing for label '{label}'.\")\n",
    "\n",
    "    with open(os.path.join(target_path, 'lemma_dc'), 'r', encoding='utf-8') as f:\n",
    "        lemma_dc = [line.strip() for line in f if line.strip()]\n",
    "    if not lemma_dc:\n",
    "        print(f\"No lemmatized documents found for label '{label}'.\")\n",
    "\n",
    "    # Load embeddings\n",
    "    embedding = np.load(os.path.join(target_path, 'embedding.npy'))\n",
    "    if embedding.size == 0 or len(embedding) != len(lemma_dc):\n",
    "        print(f\"Embedding generation failed or mismatched for label '{label}': {len(embedding)} embeddings, {len(lemma_dc)} documents.\")\n",
    "    reduced_embedding = np.load(os.path.join(target_path, 'reduce_embedding.npy'))\n",
    "    if reduced_embedding.size == 0:\n",
    "        print(f\"Embedding generation failed for label '{label}'.\")\n",
    "\n",
    "    # Custom function to filter n-grams from vocabulary\n",
    "    def filter_ngrams_vocabulary(vectorizer, documents, unwanted_ngrams):\n",
    "        vectorizer.fit(documents)\n",
    "        vocab = vectorizer.get_feature_names_out()\n",
    "        filtered_vocab = [term for term in vocab if term not in unwanted_ngrams]\n",
    "        new_vectorizer = CountVectorizer(\n",
    "            ngram_range=vectorizer.ngram_range,\n",
    "            stop_words=vectorizer.stop_words,\n",
    "            min_df=vectorizer.min_df,\n",
    "            max_df=vectorizer.max_df,\n",
    "            vocabulary=filtered_vocab\n",
    "        )\n",
    "        return new_vectorizer\n",
    "\n",
    "    # Evaluation functions\n",
    "    def extract_topic_words(topics_dict, topk: int = 10):\n",
    "        topics_clean = []\n",
    "        for tid, pairs in topics_dict.items():\n",
    "            if tid == -1:\n",
    "                continue\n",
    "            topic_words = []\n",
    "            for word, _ in pairs[:topk]:\n",
    "                split_words = word.strip().split()\n",
    "                topic_words.extend(split_words)\n",
    "            if topic_words:\n",
    "                topics_clean.append(list(dict.fromkeys(topic_words)))\n",
    "        return topics_clean\n",
    "\n",
    "    def topic_coherence(topics_list, docs, topk: int = 10):\n",
    "        dictionary = Dictionary(doc.split() for doc in docs)\n",
    "        coherence_model = CoherenceModel(\n",
    "            topics=topics_list,\n",
    "            texts=[doc.split() for doc in docs],\n",
    "            dictionary=dictionary,\n",
    "            coherence=\"c_v\",\n",
    "            topn=topk,\n",
    "        )\n",
    "        return coherence_model.get_coherence()\n",
    "\n",
    "    def topic_diversity(topics_dict, topk: int = 10):\n",
    "        all_words = [w for _, pairs in topics_dict.items() if _ != -1\n",
    "                     for w, _ in pairs[:topk]]\n",
    "        return len(set(all_words)) / (len(topics_dict) * topk)\n",
    "\n",
    "    def topic_silhouette(embeddings, topics_labels):\n",
    "        valid_idx = [i for i, t in enumerate(topics_labels) if t != -1]\n",
    "        X_valid = embeddings[valid_idx]\n",
    "        y_valid = np.array(topics_labels)[valid_idx]\n",
    "        if len(np.unique(y_valid)) < 2:\n",
    "            return 0.0\n",
    "        return silhouette_score(X_valid, y_valid, metric=\"cosine\")\n",
    "\n",
    "    # Initialize SentenceTransformer model\n",
    "    sentence_transformer_model = models.Transformer(\n",
    "        model_name_or_path=\"mental/mental-bert-base-uncased\",\n",
    "        tokenizer_name_or_path=\"mental/mental-bert-base-uncased\",\n",
    "        max_seq_length=512\n",
    "    )\n",
    "    pooling_model = models.Pooling(\n",
    "        sentence_transformer_model.get_word_embedding_dimension(),\n",
    "        pooling_mode_mean_tokens=True\n",
    "    )\n",
    "    mentalbert_sentence_model = SentenceTransformer(device=\"cuda\", modules=[sentence_transformer_model, pooling_model])\n",
    "\n",
    "    # Grid search logic\n",
    "\n",
    "    # Define hyperparameter ranges\n",
    "    max_df_range = np.linspace(0.4, 0.95, num=12)  # 12 values between 0.4 and 0.95\n",
    "    min_cluster_size_range = np.arange(30, 61, 5)  # 30 to 60, step 5\n",
    "    min_samples_range = np.arange(15, 36, 5)  # 15 to 35, step 5\n",
    "\n",
    "    # Generate random sample of parameter combinations\n",
    "    param_combinations = list(product(max_df_range, min_cluster_size_range, min_samples_range))\n",
    "    if n_samples > len(param_combinations):\n",
    "        n_samples = len(param_combinations)\n",
    "    sampled_combinations = random.sample(param_combinations, n_samples)\n",
    "\n",
    "    results = []\n",
    "    for idx, (max_df_val, min_cluster_size_val, min_samples_val) in enumerate(sampled_combinations):\n",
    "        print(f\"Testing combination {idx+1}/{n_samples}: max_df={max_df_val:.3f}, min_cluster_size={min_cluster_size_val}, min_samples={min_samples_val}\")\n",
    "\n",
    "        # Initialize models with current parameters\n",
    "        vectorizer_model = CountVectorizer(\n",
    "            ngram_range=(1, 3),\n",
    "            stop_words='english',\n",
    "            min_df=min_df,\n",
    "            max_df=max_df_val\n",
    "        )\n",
    "        vectorizer_model = filter_ngrams_vocabulary(vectorizer_model, lemma_dc, stopwords)\n",
    "\n",
    "        umap_model = UMAP(\n",
    "            n_neighbors=n_neighbors,\n",
    "            n_components=5,\n",
    "            min_dist=0.0,\n",
    "            metric='cosine',\n",
    "            random_state=42\n",
    "        )\n",
    "\n",
    "        hdbscan_model = HDBSCAN(\n",
    "            min_cluster_size=min_cluster_size_val,\n",
    "            min_samples=min_samples_val,\n",
    "            metric='euclidean',\n",
    "            prediction_data=True\n",
    "        )\n",
    "\n",
    "        ctfidf_model = ClassTfidfTransformer(reduce_frequent_words=True)\n",
    "        representation_model = MaximalMarginalRelevance(diversity=0.3)\n",
    "\n",
    "        # Initialize and fit BERTopic\n",
    "        topic_model = BERTopic(\n",
    "            embedding_model=mentalbert_sentence_model,\n",
    "            umap_model=umap_model,\n",
    "            hdbscan_model=hdbscan_model,\n",
    "            vectorizer_model=vectorizer_model,\n",
    "            ctfidf_model=ctfidf_model,\n",
    "            representation_model=representation_model,\n",
    "            top_n_words=10,\n",
    "            nr_topics=nr_topics,\n",
    "            calculate_probabilities=True\n",
    "        )\n",
    "\n",
    "        # Fit model\n",
    "        if use_pretrained_embed:\n",
    "            topics, probs = topic_model.fit_transform(documents=lemma_dc, embeddings=embedding)\n",
    "        else:\n",
    "            topics, probs = topic_model.fit_transform(documents=lemma_dc)\n",
    "\n",
    "        # Reduce outliers\n",
    "        num_outliers = np.sum(np.array(topics) == -1)\n",
    "        if num_outliers > 0:\n",
    "            new_topics = topic_model.reduce_outliers(\n",
    "                documents=lemma_dc,\n",
    "                topics=topics,\n",
    "                probabilities=probs,\n",
    "                strategy=\"probabilities\",\n",
    "                threshold=0.6\n",
    "            )\n",
    "            if num_outliers != new_topics.count(-1):\n",
    "                topic_model.update_topics(lemma_dc, topics=new_topics, vectorizer_model=vectorizer_model,\n",
    "                                            ctfidf_model=ctfidf_model, representation_model=representation_model)\n",
    "\n",
    "        # Evaluate\n",
    "        topics_dict = topic_model.get_topics()\n",
    "        topics_labels = topics\n",
    "        topics_list = extract_topic_words(topics_dict, topk=10)\n",
    "\n",
    "        coh = topic_coherence(topics_list, lemma_dc, topk=10)\n",
    "        div = topic_diversity(topics_dict, topk=10)\n",
    "        sil = topic_silhouette(embedding, topics_labels)\n",
    "\n",
    "        # Store results\n",
    "        results.append({\n",
    "            'max_df': max_df_val,\n",
    "            'min_cluster_size': min_cluster_size_val,\n",
    "            'min_samples': min_samples_val,\n",
    "            'coherence': coh,\n",
    "            'diversity': div,\n",
    "            'silhouette': sil,\n",
    "            'combined_score': (coh + div + sil) / 3  # Simple average for combined score\n",
    "        })\n",
    "\n",
    "    # Sort results by combined score and select top 5\n",
    "    results = sorted(results, key=lambda x: x['combined_score'], reverse=True)\n",
    "    top_5_results = results[:5]\n",
    "\n",
    "    print(\"\\nTop 5 Parameter Combinations:\")\n",
    "    for i, res in enumerate(top_5_results, 1):\n",
    "        print(f\"\\nRank {i}:\")\n",
    "        print(f\"max_df: {res['max_df']:.3f}, min_cluster_size: {res['min_cluster_size']}, min_samples: {res['min_samples']}\")\n",
    "        print(f\"Coherence: {res['coherence']:.4f}, Diversity: {res['diversity']:.4f}, Silhouette: {res['silhouette']:.4f}\")\n",
    "        print(f\"Combined Score: {res['combined_score']:.4f}\")\n",
    "\n",
    "    # Save results to CSV\n",
    "    results_df = pd.DataFrame(results)\n",
    "    output_path = os.path.join(cur_dir, f'topic_modeling_results_{label.replace(\" \", \"_\").lower()}.csv')\n",
    "    results_df.to_csv(output_path, index=False)\n",
    "    print(f\"\\nGrid search results saved to: {output_path}\")\n",
    "\n",
    "    return top_5_results\n"
   ]
  },
  {
   "cell_type": "code",
   "execution_count": 3,
   "id": "0d0b83a7",
   "metadata": {},
   "outputs": [
    {
     "name": "stdout",
     "output_type": "stream",
     "text": [
      "\n",
      "\n",
      "=== Processing category: Anxiety ===\n",
      "\n"
     ]
    },
    {
     "name": "stderr",
     "output_type": "stream",
     "text": [
      "Some weights of BertModel were not initialized from the model checkpoint at mental/mental-bert-base-uncased and are newly initialized: ['pooler.dense.bias', 'pooler.dense.weight']\n",
      "You should probably TRAIN this model on a down-stream task to be able to use it for predictions and inference.\n"
     ]
    },
    {
     "name": "stdout",
     "output_type": "stream",
     "text": [
      "Testing combination 1/100: max_df=0.800, min_cluster_size=55, min_samples=30\n"
     ]
    },
    {
     "name": "stderr",
     "output_type": "stream",
     "text": [
      "2025-08-24 22:42:59,771 - BERTopic - WARNING: Using a custom list of topic assignments may lead to errors if topic reduction techniques are used afterwards. Make sure that manually assigning topics is the last step in the pipeline.Note that topic embeddings will also be created through weightedc-TF-IDF embeddings instead of centroid embeddings.\n"
     ]
    },
    {
     "name": "stdout",
     "output_type": "stream",
     "text": [
      "Testing combination 2/100: max_df=0.950, min_cluster_size=40, min_samples=15\n"
     ]
    },
    {
     "name": "stderr",
     "output_type": "stream",
     "text": [
      "2025-08-24 22:43:49,966 - BERTopic - WARNING: Using a custom list of topic assignments may lead to errors if topic reduction techniques are used afterwards. Make sure that manually assigning topics is the last step in the pipeline.Note that topic embeddings will also be created through weightedc-TF-IDF embeddings instead of centroid embeddings.\n"
     ]
    },
    {
     "name": "stdout",
     "output_type": "stream",
     "text": [
      "Testing combination 3/100: max_df=0.450, min_cluster_size=30, min_samples=35\n",
      "Testing combination 4/100: max_df=0.500, min_cluster_size=35, min_samples=20\n",
      "Testing combination 5/100: max_df=0.750, min_cluster_size=35, min_samples=25\n",
      "Testing combination 6/100: max_df=0.700, min_cluster_size=40, min_samples=20\n",
      "Testing combination 7/100: max_df=0.650, min_cluster_size=60, min_samples=35\n",
      "Testing combination 8/100: max_df=0.900, min_cluster_size=50, min_samples=35\n"
     ]
    },
    {
     "name": "stderr",
     "output_type": "stream",
     "text": [
      "2025-08-24 22:48:22,865 - BERTopic - WARNING: Using a custom list of topic assignments may lead to errors if topic reduction techniques are used afterwards. Make sure that manually assigning topics is the last step in the pipeline.Note that topic embeddings will also be created through weightedc-TF-IDF embeddings instead of centroid embeddings.\n"
     ]
    },
    {
     "name": "stdout",
     "output_type": "stream",
     "text": [
      "Testing combination 9/100: max_df=0.450, min_cluster_size=60, min_samples=35\n",
      "Testing combination 10/100: max_df=0.600, min_cluster_size=60, min_samples=25\n"
     ]
    },
    {
     "name": "stderr",
     "output_type": "stream",
     "text": [
      "2025-08-24 22:50:02,553 - BERTopic - WARNING: Using a custom list of topic assignments may lead to errors if topic reduction techniques are used afterwards. Make sure that manually assigning topics is the last step in the pipeline.Note that topic embeddings will also be created through weightedc-TF-IDF embeddings instead of centroid embeddings.\n"
     ]
    },
    {
     "name": "stdout",
     "output_type": "stream",
     "text": [
      "Testing combination 11/100: max_df=0.500, min_cluster_size=45, min_samples=20\n"
     ]
    },
    {
     "name": "stderr",
     "output_type": "stream",
     "text": [
      "2025-08-24 22:50:56,820 - BERTopic - WARNING: Using a custom list of topic assignments may lead to errors if topic reduction techniques are used afterwards. Make sure that manually assigning topics is the last step in the pipeline.Note that topic embeddings will also be created through weightedc-TF-IDF embeddings instead of centroid embeddings.\n"
     ]
    },
    {
     "name": "stdout",
     "output_type": "stream",
     "text": [
      "Testing combination 12/100: max_df=0.400, min_cluster_size=30, min_samples=30\n",
      "Testing combination 13/100: max_df=0.700, min_cluster_size=40, min_samples=30\n",
      "Testing combination 14/100: max_df=0.550, min_cluster_size=40, min_samples=20\n",
      "Testing combination 15/100: max_df=0.400, min_cluster_size=50, min_samples=20\n",
      "Testing combination 16/100: max_df=0.550, min_cluster_size=60, min_samples=15\n",
      "Testing combination 17/100: max_df=0.550, min_cluster_size=45, min_samples=25\n"
     ]
    },
    {
     "name": "stderr",
     "output_type": "stream",
     "text": [
      "2025-08-24 22:55:53,854 - BERTopic - WARNING: Using a custom list of topic assignments may lead to errors if topic reduction techniques are used afterwards. Make sure that manually assigning topics is the last step in the pipeline.Note that topic embeddings will also be created through weightedc-TF-IDF embeddings instead of centroid embeddings.\n"
     ]
    },
    {
     "name": "stdout",
     "output_type": "stream",
     "text": [
      "Testing combination 18/100: max_df=0.900, min_cluster_size=45, min_samples=15\n"
     ]
    },
    {
     "name": "stderr",
     "output_type": "stream",
     "text": [
      "2025-08-24 22:56:47,344 - BERTopic - WARNING: Using a custom list of topic assignments may lead to errors if topic reduction techniques are used afterwards. Make sure that manually assigning topics is the last step in the pipeline.Note that topic embeddings will also be created through weightedc-TF-IDF embeddings instead of centroid embeddings.\n"
     ]
    },
    {
     "name": "stdout",
     "output_type": "stream",
     "text": [
      "Testing combination 19/100: max_df=0.800, min_cluster_size=45, min_samples=30\n"
     ]
    },
    {
     "name": "stderr",
     "output_type": "stream",
     "text": [
      "2025-08-24 22:57:40,430 - BERTopic - WARNING: Using a custom list of topic assignments may lead to errors if topic reduction techniques are used afterwards. Make sure that manually assigning topics is the last step in the pipeline.Note that topic embeddings will also be created through weightedc-TF-IDF embeddings instead of centroid embeddings.\n"
     ]
    },
    {
     "name": "stdout",
     "output_type": "stream",
     "text": [
      "Testing combination 20/100: max_df=0.750, min_cluster_size=60, min_samples=35\n",
      "Testing combination 21/100: max_df=0.500, min_cluster_size=35, min_samples=30\n",
      "Testing combination 22/100: max_df=0.650, min_cluster_size=50, min_samples=25\n"
     ]
    },
    {
     "name": "stderr",
     "output_type": "stream",
     "text": [
      "2025-08-24 23:00:07,955 - BERTopic - WARNING: Using a custom list of topic assignments may lead to errors if topic reduction techniques are used afterwards. Make sure that manually assigning topics is the last step in the pipeline.Note that topic embeddings will also be created through weightedc-TF-IDF embeddings instead of centroid embeddings.\n"
     ]
    },
    {
     "name": "stdout",
     "output_type": "stream",
     "text": [
      "Testing combination 23/100: max_df=0.650, min_cluster_size=40, min_samples=20\n",
      "Testing combination 24/100: max_df=0.550, min_cluster_size=55, min_samples=25\n"
     ]
    },
    {
     "name": "stderr",
     "output_type": "stream",
     "text": [
      "2025-08-24 23:01:46,458 - BERTopic - WARNING: Using a custom list of topic assignments may lead to errors if topic reduction techniques are used afterwards. Make sure that manually assigning topics is the last step in the pipeline.Note that topic embeddings will also be created through weightedc-TF-IDF embeddings instead of centroid embeddings.\n"
     ]
    },
    {
     "name": "stdout",
     "output_type": "stream",
     "text": [
      "Testing combination 25/100: max_df=0.950, min_cluster_size=55, min_samples=20\n",
      "Testing combination 26/100: max_df=0.450, min_cluster_size=60, min_samples=30\n",
      "Testing combination 27/100: max_df=0.500, min_cluster_size=50, min_samples=25\n"
     ]
    },
    {
     "name": "stderr",
     "output_type": "stream",
     "text": [
      "2025-08-24 23:04:11,247 - BERTopic - WARNING: Using a custom list of topic assignments may lead to errors if topic reduction techniques are used afterwards. Make sure that manually assigning topics is the last step in the pipeline.Note that topic embeddings will also be created through weightedc-TF-IDF embeddings instead of centroid embeddings.\n"
     ]
    },
    {
     "name": "stdout",
     "output_type": "stream",
     "text": [
      "Testing combination 28/100: max_df=0.600, min_cluster_size=60, min_samples=30\n",
      "Testing combination 29/100: max_df=0.600, min_cluster_size=30, min_samples=20\n",
      "Testing combination 30/100: max_df=0.650, min_cluster_size=55, min_samples=20\n",
      "Testing combination 31/100: max_df=0.750, min_cluster_size=40, min_samples=35\n",
      "Testing combination 32/100: max_df=0.450, min_cluster_size=35, min_samples=25\n",
      "Testing combination 33/100: max_df=0.450, min_cluster_size=45, min_samples=35\n"
     ]
    },
    {
     "name": "stderr",
     "output_type": "stream",
     "text": [
      "2025-08-24 23:08:38,917 - BERTopic - WARNING: Using a custom list of topic assignments may lead to errors if topic reduction techniques are used afterwards. Make sure that manually assigning topics is the last step in the pipeline.Note that topic embeddings will also be created through weightedc-TF-IDF embeddings instead of centroid embeddings.\n"
     ]
    },
    {
     "name": "stdout",
     "output_type": "stream",
     "text": [
      "Testing combination 34/100: max_df=0.850, min_cluster_size=45, min_samples=30\n"
     ]
    },
    {
     "name": "stderr",
     "output_type": "stream",
     "text": [
      "2025-08-24 23:09:30,296 - BERTopic - WARNING: Using a custom list of topic assignments may lead to errors if topic reduction techniques are used afterwards. Make sure that manually assigning topics is the last step in the pipeline.Note that topic embeddings will also be created through weightedc-TF-IDF embeddings instead of centroid embeddings.\n"
     ]
    },
    {
     "name": "stdout",
     "output_type": "stream",
     "text": [
      "Testing combination 35/100: max_df=0.900, min_cluster_size=50, min_samples=30\n"
     ]
    },
    {
     "name": "stderr",
     "output_type": "stream",
     "text": [
      "2025-08-24 23:10:18,945 - BERTopic - WARNING: Using a custom list of topic assignments may lead to errors if topic reduction techniques are used afterwards. Make sure that manually assigning topics is the last step in the pipeline.Note that topic embeddings will also be created through weightedc-TF-IDF embeddings instead of centroid embeddings.\n"
     ]
    },
    {
     "name": "stdout",
     "output_type": "stream",
     "text": [
      "Testing combination 36/100: max_df=0.850, min_cluster_size=55, min_samples=35\n",
      "Testing combination 37/100: max_df=0.750, min_cluster_size=55, min_samples=30\n"
     ]
    },
    {
     "name": "stderr",
     "output_type": "stream",
     "text": [
      "2025-08-24 23:11:52,894 - BERTopic - WARNING: Using a custom list of topic assignments may lead to errors if topic reduction techniques are used afterwards. Make sure that manually assigning topics is the last step in the pipeline.Note that topic embeddings will also be created through weightedc-TF-IDF embeddings instead of centroid embeddings.\n"
     ]
    },
    {
     "name": "stdout",
     "output_type": "stream",
     "text": [
      "Testing combination 38/100: max_df=0.800, min_cluster_size=35, min_samples=15\n"
     ]
    },
    {
     "name": "stderr",
     "output_type": "stream",
     "text": [
      "2025-08-24 23:12:43,030 - BERTopic - WARNING: Using a custom list of topic assignments may lead to errors if topic reduction techniques are used afterwards. Make sure that manually assigning topics is the last step in the pipeline.Note that topic embeddings will also be created through weightedc-TF-IDF embeddings instead of centroid embeddings.\n"
     ]
    },
    {
     "name": "stdout",
     "output_type": "stream",
     "text": [
      "Testing combination 39/100: max_df=0.650, min_cluster_size=50, min_samples=15\n",
      "Testing combination 40/100: max_df=0.800, min_cluster_size=45, min_samples=35\n"
     ]
    },
    {
     "name": "stderr",
     "output_type": "stream",
     "text": [
      "2025-08-24 23:14:25,825 - BERTopic - WARNING: Using a custom list of topic assignments may lead to errors if topic reduction techniques are used afterwards. Make sure that manually assigning topics is the last step in the pipeline.Note that topic embeddings will also be created through weightedc-TF-IDF embeddings instead of centroid embeddings.\n"
     ]
    },
    {
     "name": "stdout",
     "output_type": "stream",
     "text": [
      "Testing combination 41/100: max_df=0.750, min_cluster_size=55, min_samples=15\n",
      "Testing combination 42/100: max_df=0.450, min_cluster_size=45, min_samples=15\n"
     ]
    },
    {
     "name": "stderr",
     "output_type": "stream",
     "text": [
      "2025-08-24 23:16:04,503 - BERTopic - WARNING: Using a custom list of topic assignments may lead to errors if topic reduction techniques are used afterwards. Make sure that manually assigning topics is the last step in the pipeline.Note that topic embeddings will also be created through weightedc-TF-IDF embeddings instead of centroid embeddings.\n"
     ]
    },
    {
     "name": "stdout",
     "output_type": "stream",
     "text": [
      "Testing combination 43/100: max_df=0.800, min_cluster_size=40, min_samples=35\n",
      "Testing combination 44/100: max_df=0.550, min_cluster_size=50, min_samples=20\n",
      "Testing combination 45/100: max_df=0.650, min_cluster_size=60, min_samples=30\n",
      "Testing combination 46/100: max_df=0.600, min_cluster_size=40, min_samples=15\n"
     ]
    },
    {
     "name": "stderr",
     "output_type": "stream",
     "text": [
      "2025-08-24 23:19:20,191 - BERTopic - WARNING: Using a custom list of topic assignments may lead to errors if topic reduction techniques are used afterwards. Make sure that manually assigning topics is the last step in the pipeline.Note that topic embeddings will also be created through weightedc-TF-IDF embeddings instead of centroid embeddings.\n"
     ]
    },
    {
     "name": "stdout",
     "output_type": "stream",
     "text": [
      "Testing combination 47/100: max_df=0.450, min_cluster_size=40, min_samples=20\n",
      "Testing combination 48/100: max_df=0.700, min_cluster_size=55, min_samples=15\n",
      "Testing combination 49/100: max_df=0.400, min_cluster_size=35, min_samples=15\n"
     ]
    },
    {
     "name": "stderr",
     "output_type": "stream",
     "text": [
      "2025-08-24 23:21:49,115 - BERTopic - WARNING: Using a custom list of topic assignments may lead to errors if topic reduction techniques are used afterwards. Make sure that manually assigning topics is the last step in the pipeline.Note that topic embeddings will also be created through weightedc-TF-IDF embeddings instead of centroid embeddings.\n"
     ]
    },
    {
     "name": "stdout",
     "output_type": "stream",
     "text": [
      "Testing combination 50/100: max_df=0.850, min_cluster_size=40, min_samples=15\n"
     ]
    },
    {
     "name": "stderr",
     "output_type": "stream",
     "text": [
      "2025-08-24 23:22:47,281 - BERTopic - WARNING: Using a custom list of topic assignments may lead to errors if topic reduction techniques are used afterwards. Make sure that manually assigning topics is the last step in the pipeline.Note that topic embeddings will also be created through weightedc-TF-IDF embeddings instead of centroid embeddings.\n"
     ]
    },
    {
     "name": "stdout",
     "output_type": "stream",
     "text": [
      "Testing combination 51/100: max_df=0.750, min_cluster_size=35, min_samples=35\n",
      "Testing combination 52/100: max_df=0.850, min_cluster_size=30, min_samples=25\n",
      "Testing combination 53/100: max_df=0.400, min_cluster_size=35, min_samples=30\n",
      "Testing combination 54/100: max_df=0.450, min_cluster_size=40, min_samples=30\n",
      "Testing combination 55/100: max_df=0.900, min_cluster_size=35, min_samples=30\n",
      "Testing combination 56/100: max_df=0.750, min_cluster_size=60, min_samples=15\n",
      "Testing combination 57/100: max_df=0.650, min_cluster_size=35, min_samples=20\n",
      "Testing combination 58/100: max_df=0.900, min_cluster_size=45, min_samples=20\n"
     ]
    },
    {
     "name": "stderr",
     "output_type": "stream",
     "text": [
      "2025-08-24 23:28:58,950 - BERTopic - WARNING: Using a custom list of topic assignments may lead to errors if topic reduction techniques are used afterwards. Make sure that manually assigning topics is the last step in the pipeline.Note that topic embeddings will also be created through weightedc-TF-IDF embeddings instead of centroid embeddings.\n"
     ]
    },
    {
     "name": "stdout",
     "output_type": "stream",
     "text": [
      "Testing combination 59/100: max_df=0.600, min_cluster_size=35, min_samples=25\n",
      "Testing combination 60/100: max_df=0.700, min_cluster_size=35, min_samples=15\n"
     ]
    },
    {
     "name": "stderr",
     "output_type": "stream",
     "text": [
      "2025-08-24 23:30:35,755 - BERTopic - WARNING: Using a custom list of topic assignments may lead to errors if topic reduction techniques are used afterwards. Make sure that manually assigning topics is the last step in the pipeline.Note that topic embeddings will also be created through weightedc-TF-IDF embeddings instead of centroid embeddings.\n"
     ]
    },
    {
     "name": "stdout",
     "output_type": "stream",
     "text": [
      "Testing combination 61/100: max_df=0.950, min_cluster_size=45, min_samples=15\n"
     ]
    },
    {
     "name": "stderr",
     "output_type": "stream",
     "text": [
      "2025-08-24 23:31:26,983 - BERTopic - WARNING: Using a custom list of topic assignments may lead to errors if topic reduction techniques are used afterwards. Make sure that manually assigning topics is the last step in the pipeline.Note that topic embeddings will also be created through weightedc-TF-IDF embeddings instead of centroid embeddings.\n"
     ]
    },
    {
     "name": "stdout",
     "output_type": "stream",
     "text": [
      "Testing combination 62/100: max_df=0.650, min_cluster_size=45, min_samples=35\n"
     ]
    },
    {
     "name": "stderr",
     "output_type": "stream",
     "text": [
      "2025-08-24 23:32:14,801 - BERTopic - WARNING: Using a custom list of topic assignments may lead to errors if topic reduction techniques are used afterwards. Make sure that manually assigning topics is the last step in the pipeline.Note that topic embeddings will also be created through weightedc-TF-IDF embeddings instead of centroid embeddings.\n"
     ]
    },
    {
     "name": "stdout",
     "output_type": "stream",
     "text": [
      "Testing combination 63/100: max_df=0.900, min_cluster_size=40, min_samples=30\n",
      "Testing combination 64/100: max_df=0.400, min_cluster_size=30, min_samples=20\n",
      "Testing combination 65/100: max_df=0.900, min_cluster_size=50, min_samples=15\n",
      "Testing combination 66/100: max_df=0.900, min_cluster_size=35, min_samples=35\n",
      "Testing combination 67/100: max_df=0.750, min_cluster_size=55, min_samples=25\n"
     ]
    },
    {
     "name": "stderr",
     "output_type": "stream",
     "text": [
      "2025-08-24 23:36:03,895 - BERTopic - WARNING: Using a custom list of topic assignments may lead to errors if topic reduction techniques are used afterwards. Make sure that manually assigning topics is the last step in the pipeline.Note that topic embeddings will also be created through weightedc-TF-IDF embeddings instead of centroid embeddings.\n"
     ]
    },
    {
     "name": "stdout",
     "output_type": "stream",
     "text": [
      "Testing combination 68/100: max_df=0.950, min_cluster_size=50, min_samples=15\n",
      "Testing combination 69/100: max_df=0.950, min_cluster_size=30, min_samples=25\n",
      "Testing combination 70/100: max_df=0.800, min_cluster_size=50, min_samples=15\n",
      "Testing combination 71/100: max_df=0.850, min_cluster_size=60, min_samples=15\n",
      "Testing combination 72/100: max_df=0.700, min_cluster_size=50, min_samples=35\n"
     ]
    },
    {
     "name": "stderr",
     "output_type": "stream",
     "text": [
      "2025-08-24 23:40:07,642 - BERTopic - WARNING: Using a custom list of topic assignments may lead to errors if topic reduction techniques are used afterwards. Make sure that manually assigning topics is the last step in the pipeline.Note that topic embeddings will also be created through weightedc-TF-IDF embeddings instead of centroid embeddings.\n"
     ]
    },
    {
     "name": "stdout",
     "output_type": "stream",
     "text": [
      "Testing combination 73/100: max_df=0.600, min_cluster_size=55, min_samples=35\n",
      "Testing combination 74/100: max_df=0.450, min_cluster_size=35, min_samples=35\n",
      "Testing combination 75/100: max_df=0.450, min_cluster_size=40, min_samples=25\n",
      "Testing combination 76/100: max_df=0.900, min_cluster_size=50, min_samples=20\n",
      "Testing combination 77/100: max_df=0.800, min_cluster_size=50, min_samples=25\n"
     ]
    },
    {
     "name": "stderr",
     "output_type": "stream",
     "text": [
      "2025-08-24 23:43:57,801 - BERTopic - WARNING: Using a custom list of topic assignments may lead to errors if topic reduction techniques are used afterwards. Make sure that manually assigning topics is the last step in the pipeline.Note that topic embeddings will also be created through weightedc-TF-IDF embeddings instead of centroid embeddings.\n"
     ]
    },
    {
     "name": "stdout",
     "output_type": "stream",
     "text": [
      "Testing combination 78/100: max_df=0.600, min_cluster_size=30, min_samples=15\n",
      "Testing combination 79/100: max_df=0.550, min_cluster_size=50, min_samples=30\n"
     ]
    },
    {
     "name": "stderr",
     "output_type": "stream",
     "text": [
      "2025-08-24 23:45:40,631 - BERTopic - WARNING: Using a custom list of topic assignments may lead to errors if topic reduction techniques are used afterwards. Make sure that manually assigning topics is the last step in the pipeline.Note that topic embeddings will also be created through weightedc-TF-IDF embeddings instead of centroid embeddings.\n"
     ]
    },
    {
     "name": "stdout",
     "output_type": "stream",
     "text": [
      "Testing combination 80/100: max_df=0.800, min_cluster_size=60, min_samples=30\n",
      "Testing combination 81/100: max_df=0.700, min_cluster_size=55, min_samples=20\n",
      "Testing combination 82/100: max_df=0.500, min_cluster_size=55, min_samples=30\n"
     ]
    },
    {
     "name": "stderr",
     "output_type": "stream",
     "text": [
      "2025-08-24 23:48:05,409 - BERTopic - WARNING: Using a custom list of topic assignments may lead to errors if topic reduction techniques are used afterwards. Make sure that manually assigning topics is the last step in the pipeline.Note that topic embeddings will also be created through weightedc-TF-IDF embeddings instead of centroid embeddings.\n"
     ]
    },
    {
     "name": "stdout",
     "output_type": "stream",
     "text": [
      "Testing combination 83/100: max_df=0.600, min_cluster_size=35, min_samples=30\n",
      "Testing combination 84/100: max_df=0.550, min_cluster_size=45, min_samples=20\n"
     ]
    },
    {
     "name": "stderr",
     "output_type": "stream",
     "text": [
      "2025-08-24 23:49:42,689 - BERTopic - WARNING: Using a custom list of topic assignments may lead to errors if topic reduction techniques are used afterwards. Make sure that manually assigning topics is the last step in the pipeline.Note that topic embeddings will also be created through weightedc-TF-IDF embeddings instead of centroid embeddings.\n"
     ]
    },
    {
     "name": "stdout",
     "output_type": "stream",
     "text": [
      "Testing combination 85/100: max_df=0.800, min_cluster_size=30, min_samples=20\n",
      "Testing combination 86/100: max_df=0.900, min_cluster_size=45, min_samples=25\n"
     ]
    },
    {
     "name": "stderr",
     "output_type": "stream",
     "text": [
      "2025-08-24 23:51:22,511 - BERTopic - WARNING: Using a custom list of topic assignments may lead to errors if topic reduction techniques are used afterwards. Make sure that manually assigning topics is the last step in the pipeline.Note that topic embeddings will also be created through weightedc-TF-IDF embeddings instead of centroid embeddings.\n"
     ]
    },
    {
     "name": "stdout",
     "output_type": "stream",
     "text": [
      "Testing combination 87/100: max_df=0.550, min_cluster_size=60, min_samples=35\n",
      "Testing combination 88/100: max_df=0.850, min_cluster_size=40, min_samples=20\n",
      "Testing combination 89/100: max_df=0.850, min_cluster_size=55, min_samples=30\n"
     ]
    },
    {
     "name": "stderr",
     "output_type": "stream",
     "text": [
      "2025-08-24 23:53:46,399 - BERTopic - WARNING: Using a custom list of topic assignments may lead to errors if topic reduction techniques are used afterwards. Make sure that manually assigning topics is the last step in the pipeline.Note that topic embeddings will also be created through weightedc-TF-IDF embeddings instead of centroid embeddings.\n"
     ]
    },
    {
     "name": "stdout",
     "output_type": "stream",
     "text": [
      "Testing combination 90/100: max_df=0.850, min_cluster_size=55, min_samples=20\n",
      "Testing combination 91/100: max_df=0.800, min_cluster_size=55, min_samples=20\n",
      "Testing combination 92/100: max_df=0.500, min_cluster_size=45, min_samples=30\n"
     ]
    },
    {
     "name": "stderr",
     "output_type": "stream",
     "text": [
      "2025-08-24 23:56:15,849 - BERTopic - WARNING: Using a custom list of topic assignments may lead to errors if topic reduction techniques are used afterwards. Make sure that manually assigning topics is the last step in the pipeline.Note that topic embeddings will also be created through weightedc-TF-IDF embeddings instead of centroid embeddings.\n"
     ]
    },
    {
     "name": "stdout",
     "output_type": "stream",
     "text": [
      "Testing combination 93/100: max_df=0.750, min_cluster_size=50, min_samples=15\n",
      "Testing combination 94/100: max_df=0.450, min_cluster_size=55, min_samples=30\n"
     ]
    },
    {
     "name": "stderr",
     "output_type": "stream",
     "text": [
      "2025-08-24 23:57:58,524 - BERTopic - WARNING: Using a custom list of topic assignments may lead to errors if topic reduction techniques are used afterwards. Make sure that manually assigning topics is the last step in the pipeline.Note that topic embeddings will also be created through weightedc-TF-IDF embeddings instead of centroid embeddings.\n"
     ]
    },
    {
     "name": "stdout",
     "output_type": "stream",
     "text": [
      "Testing combination 95/100: max_df=0.850, min_cluster_size=40, min_samples=25\n",
      "Testing combination 96/100: max_df=0.850, min_cluster_size=45, min_samples=25\n"
     ]
    },
    {
     "name": "stderr",
     "output_type": "stream",
     "text": [
      "2025-08-24 23:59:34,294 - BERTopic - WARNING: Using a custom list of topic assignments may lead to errors if topic reduction techniques are used afterwards. Make sure that manually assigning topics is the last step in the pipeline.Note that topic embeddings will also be created through weightedc-TF-IDF embeddings instead of centroid embeddings.\n"
     ]
    },
    {
     "name": "stdout",
     "output_type": "stream",
     "text": [
      "Testing combination 97/100: max_df=0.550, min_cluster_size=30, min_samples=35\n",
      "Testing combination 98/100: max_df=0.950, min_cluster_size=30, min_samples=35\n",
      "Testing combination 99/100: max_df=0.900, min_cluster_size=40, min_samples=35\n",
      "Testing combination 100/100: max_df=0.700, min_cluster_size=60, min_samples=30\n",
      "\n",
      "Top 5 Parameter Combinations:\n",
      "\n",
      "Rank 1:\n",
      "max_df: 0.400, min_cluster_size: 30, min_samples: 30\n",
      "Coherence: 0.4499, Diversity: 1.0000, Silhouette: 0.2913\n",
      "Combined Score: 0.5804\n",
      "\n",
      "Rank 2:\n",
      "max_df: 0.400, min_cluster_size: 35, min_samples: 30\n",
      "Coherence: 0.4499, Diversity: 1.0000, Silhouette: 0.2913\n",
      "Combined Score: 0.5804\n",
      "\n",
      "Rank 3:\n",
      "max_df: 0.400, min_cluster_size: 30, min_samples: 20\n",
      "Coherence: 0.4499, Diversity: 1.0000, Silhouette: 0.2913\n",
      "Combined Score: 0.5804\n",
      "\n",
      "Rank 4:\n",
      "max_df: 0.500, min_cluster_size: 35, min_samples: 20\n",
      "Coherence: 0.4274, Diversity: 1.0000, Silhouette: 0.2913\n",
      "Combined Score: 0.5729\n",
      "\n",
      "Rank 5:\n",
      "max_df: 0.500, min_cluster_size: 35, min_samples: 30\n",
      "Coherence: 0.4274, Diversity: 1.0000, Silhouette: 0.2913\n",
      "Combined Score: 0.5729\n",
      "\n",
      "Grid search results saved to: e:\\Studying in Adelaide\\2_Trimester-2\\project_A_ML-Mental Health (MDS)\\LLM_NetworkMoel_MentalHealth_coding\\topic_modeling_results_anxiety.csv\n",
      "\n",
      "\n",
      "=== Processing category: Depression ===\n",
      "\n"
     ]
    },
    {
     "name": "stderr",
     "output_type": "stream",
     "text": [
      "Some weights of BertModel were not initialized from the model checkpoint at mental/mental-bert-base-uncased and are newly initialized: ['pooler.dense.bias', 'pooler.dense.weight']\n",
      "You should probably TRAIN this model on a down-stream task to be able to use it for predictions and inference.\n"
     ]
    },
    {
     "name": "stdout",
     "output_type": "stream",
     "text": [
      "Testing combination 1/100: max_df=0.650, min_cluster_size=40, min_samples=30\n",
      "Testing combination 2/100: max_df=0.550, min_cluster_size=35, min_samples=35\n",
      "Testing combination 3/100: max_df=0.700, min_cluster_size=60, min_samples=20\n"
     ]
    },
    {
     "name": "stderr",
     "output_type": "stream",
     "text": [
      "2025-08-25 00:05:15,153 - BERTopic - WARNING: Using a custom list of topic assignments may lead to errors if topic reduction techniques are used afterwards. Make sure that manually assigning topics is the last step in the pipeline.Note that topic embeddings will also be created through weightedc-TF-IDF embeddings instead of centroid embeddings.\n"
     ]
    },
    {
     "name": "stdout",
     "output_type": "stream",
     "text": [
      "Testing combination 4/100: max_df=0.800, min_cluster_size=55, min_samples=30\n"
     ]
    },
    {
     "name": "stderr",
     "output_type": "stream",
     "text": [
      "2025-08-25 00:06:12,123 - BERTopic - WARNING: Using a custom list of topic assignments may lead to errors if topic reduction techniques are used afterwards. Make sure that manually assigning topics is the last step in the pipeline.Note that topic embeddings will also be created through weightedc-TF-IDF embeddings instead of centroid embeddings.\n"
     ]
    },
    {
     "name": "stdout",
     "output_type": "stream",
     "text": [
      "Testing combination 5/100: max_df=0.850, min_cluster_size=40, min_samples=30\n",
      "Testing combination 6/100: max_df=0.800, min_cluster_size=50, min_samples=15\n"
     ]
    },
    {
     "name": "stderr",
     "output_type": "stream",
     "text": [
      "2025-08-25 00:07:56,875 - BERTopic - WARNING: Using a custom list of topic assignments may lead to errors if topic reduction techniques are used afterwards. Make sure that manually assigning topics is the last step in the pipeline.Note that topic embeddings will also be created through weightedc-TF-IDF embeddings instead of centroid embeddings.\n"
     ]
    },
    {
     "name": "stdout",
     "output_type": "stream",
     "text": [
      "Testing combination 7/100: max_df=0.800, min_cluster_size=30, min_samples=15\n"
     ]
    },
    {
     "name": "stderr",
     "output_type": "stream",
     "text": [
      "2025-08-25 00:08:51,807 - BERTopic - WARNING: Using a custom list of topic assignments may lead to errors if topic reduction techniques are used afterwards. Make sure that manually assigning topics is the last step in the pipeline.Note that topic embeddings will also be created through weightedc-TF-IDF embeddings instead of centroid embeddings.\n"
     ]
    },
    {
     "name": "stdout",
     "output_type": "stream",
     "text": [
      "Testing combination 8/100: max_df=0.500, min_cluster_size=45, min_samples=25\n"
     ]
    },
    {
     "name": "stderr",
     "output_type": "stream",
     "text": [
      "2025-08-25 00:09:51,533 - BERTopic - WARNING: Using a custom list of topic assignments may lead to errors if topic reduction techniques are used afterwards. Make sure that manually assigning topics is the last step in the pipeline.Note that topic embeddings will also be created through weightedc-TF-IDF embeddings instead of centroid embeddings.\n"
     ]
    },
    {
     "name": "stdout",
     "output_type": "stream",
     "text": [
      "Testing combination 9/100: max_df=0.700, min_cluster_size=35, min_samples=20\n"
     ]
    },
    {
     "name": "stderr",
     "output_type": "stream",
     "text": [
      "2025-08-25 00:10:47,499 - BERTopic - WARNING: Using a custom list of topic assignments may lead to errors if topic reduction techniques are used afterwards. Make sure that manually assigning topics is the last step in the pipeline.Note that topic embeddings will also be created through weightedc-TF-IDF embeddings instead of centroid embeddings.\n"
     ]
    },
    {
     "name": "stdout",
     "output_type": "stream",
     "text": [
      "Testing combination 10/100: max_df=0.750, min_cluster_size=55, min_samples=25\n",
      "Testing combination 11/100: max_df=0.850, min_cluster_size=30, min_samples=35\n"
     ]
    },
    {
     "name": "stderr",
     "output_type": "stream",
     "text": [
      "2025-08-25 00:12:33,191 - BERTopic - WARNING: Using a custom list of topic assignments may lead to errors if topic reduction techniques are used afterwards. Make sure that manually assigning topics is the last step in the pipeline.Note that topic embeddings will also be created through weightedc-TF-IDF embeddings instead of centroid embeddings.\n"
     ]
    },
    {
     "name": "stdout",
     "output_type": "stream",
     "text": [
      "Testing combination 12/100: max_df=0.950, min_cluster_size=55, min_samples=20\n"
     ]
    },
    {
     "name": "stderr",
     "output_type": "stream",
     "text": [
      "2025-08-25 00:13:26,115 - BERTopic - WARNING: Using a custom list of topic assignments may lead to errors if topic reduction techniques are used afterwards. Make sure that manually assigning topics is the last step in the pipeline.Note that topic embeddings will also be created through weightedc-TF-IDF embeddings instead of centroid embeddings.\n"
     ]
    },
    {
     "name": "stdout",
     "output_type": "stream",
     "text": [
      "Testing combination 13/100: max_df=0.650, min_cluster_size=30, min_samples=35\n"
     ]
    },
    {
     "name": "stderr",
     "output_type": "stream",
     "text": [
      "2025-08-25 00:14:17,521 - BERTopic - WARNING: Using a custom list of topic assignments may lead to errors if topic reduction techniques are used afterwards. Make sure that manually assigning topics is the last step in the pipeline.Note that topic embeddings will also be created through weightedc-TF-IDF embeddings instead of centroid embeddings.\n"
     ]
    },
    {
     "name": "stdout",
     "output_type": "stream",
     "text": [
      "Testing combination 14/100: max_df=0.600, min_cluster_size=45, min_samples=15\n"
     ]
    },
    {
     "name": "stderr",
     "output_type": "stream",
     "text": [
      "2025-08-25 00:15:09,780 - BERTopic - WARNING: Using a custom list of topic assignments may lead to errors if topic reduction techniques are used afterwards. Make sure that manually assigning topics is the last step in the pipeline.Note that topic embeddings will also be created through weightedc-TF-IDF embeddings instead of centroid embeddings.\n"
     ]
    },
    {
     "name": "stdout",
     "output_type": "stream",
     "text": [
      "Testing combination 15/100: max_df=0.450, min_cluster_size=35, min_samples=30\n"
     ]
    },
    {
     "name": "stderr",
     "output_type": "stream",
     "text": [
      "2025-08-25 00:16:03,113 - BERTopic - WARNING: Using a custom list of topic assignments may lead to errors if topic reduction techniques are used afterwards. Make sure that manually assigning topics is the last step in the pipeline.Note that topic embeddings will also be created through weightedc-TF-IDF embeddings instead of centroid embeddings.\n"
     ]
    },
    {
     "name": "stdout",
     "output_type": "stream",
     "text": [
      "Testing combination 16/100: max_df=0.700, min_cluster_size=30, min_samples=35\n"
     ]
    },
    {
     "name": "stderr",
     "output_type": "stream",
     "text": [
      "2025-08-25 00:16:53,852 - BERTopic - WARNING: Using a custom list of topic assignments may lead to errors if topic reduction techniques are used afterwards. Make sure that manually assigning topics is the last step in the pipeline.Note that topic embeddings will also be created through weightedc-TF-IDF embeddings instead of centroid embeddings.\n"
     ]
    },
    {
     "name": "stdout",
     "output_type": "stream",
     "text": [
      "Testing combination 17/100: max_df=0.500, min_cluster_size=35, min_samples=20\n"
     ]
    },
    {
     "name": "stderr",
     "output_type": "stream",
     "text": [
      "2025-08-25 00:17:56,189 - BERTopic - WARNING: Using a custom list of topic assignments may lead to errors if topic reduction techniques are used afterwards. Make sure that manually assigning topics is the last step in the pipeline.Note that topic embeddings will also be created through weightedc-TF-IDF embeddings instead of centroid embeddings.\n"
     ]
    },
    {
     "name": "stdout",
     "output_type": "stream",
     "text": [
      "Testing combination 18/100: max_df=0.600, min_cluster_size=45, min_samples=20\n"
     ]
    },
    {
     "name": "stderr",
     "output_type": "stream",
     "text": [
      "2025-08-25 00:19:04,524 - BERTopic - WARNING: Using a custom list of topic assignments may lead to errors if topic reduction techniques are used afterwards. Make sure that manually assigning topics is the last step in the pipeline.Note that topic embeddings will also be created through weightedc-TF-IDF embeddings instead of centroid embeddings.\n"
     ]
    },
    {
     "name": "stdout",
     "output_type": "stream",
     "text": [
      "Testing combination 19/100: max_df=0.550, min_cluster_size=35, min_samples=15\n"
     ]
    },
    {
     "name": "stderr",
     "output_type": "stream",
     "text": [
      "2025-08-25 00:20:01,065 - BERTopic - WARNING: Using a custom list of topic assignments may lead to errors if topic reduction techniques are used afterwards. Make sure that manually assigning topics is the last step in the pipeline.Note that topic embeddings will also be created through weightedc-TF-IDF embeddings instead of centroid embeddings.\n"
     ]
    },
    {
     "name": "stdout",
     "output_type": "stream",
     "text": [
      "Testing combination 20/100: max_df=0.650, min_cluster_size=30, min_samples=25\n"
     ]
    },
    {
     "name": "stderr",
     "output_type": "stream",
     "text": [
      "2025-08-25 00:20:57,896 - BERTopic - WARNING: Using a custom list of topic assignments may lead to errors if topic reduction techniques are used afterwards. Make sure that manually assigning topics is the last step in the pipeline.Note that topic embeddings will also be created through weightedc-TF-IDF embeddings instead of centroid embeddings.\n"
     ]
    },
    {
     "name": "stdout",
     "output_type": "stream",
     "text": [
      "Testing combination 21/100: max_df=0.850, min_cluster_size=35, min_samples=35\n",
      "Testing combination 22/100: max_df=0.500, min_cluster_size=40, min_samples=35\n",
      "Testing combination 23/100: max_df=0.600, min_cluster_size=30, min_samples=30\n",
      "Testing combination 24/100: max_df=0.500, min_cluster_size=40, min_samples=25\n"
     ]
    },
    {
     "name": "stderr",
     "output_type": "stream",
     "text": [
      "2025-08-25 00:24:25,988 - BERTopic - WARNING: Using a custom list of topic assignments may lead to errors if topic reduction techniques are used afterwards. Make sure that manually assigning topics is the last step in the pipeline.Note that topic embeddings will also be created through weightedc-TF-IDF embeddings instead of centroid embeddings.\n"
     ]
    },
    {
     "name": "stdout",
     "output_type": "stream",
     "text": [
      "Testing combination 25/100: max_df=0.450, min_cluster_size=50, min_samples=30\n",
      "Testing combination 26/100: max_df=0.850, min_cluster_size=30, min_samples=25\n"
     ]
    },
    {
     "name": "stderr",
     "output_type": "stream",
     "text": [
      "2025-08-25 00:26:12,395 - BERTopic - WARNING: Using a custom list of topic assignments may lead to errors if topic reduction techniques are used afterwards. Make sure that manually assigning topics is the last step in the pipeline.Note that topic embeddings will also be created through weightedc-TF-IDF embeddings instead of centroid embeddings.\n"
     ]
    },
    {
     "name": "stdout",
     "output_type": "stream",
     "text": [
      "Testing combination 27/100: max_df=0.700, min_cluster_size=30, min_samples=30\n",
      "Testing combination 28/100: max_df=0.400, min_cluster_size=40, min_samples=25\n"
     ]
    },
    {
     "name": "stderr",
     "output_type": "stream",
     "text": [
      "2025-08-25 00:28:00,498 - BERTopic - WARNING: Using a custom list of topic assignments may lead to errors if topic reduction techniques are used afterwards. Make sure that manually assigning topics is the last step in the pipeline.Note that topic embeddings will also be created through weightedc-TF-IDF embeddings instead of centroid embeddings.\n"
     ]
    },
    {
     "name": "stdout",
     "output_type": "stream",
     "text": [
      "Testing combination 29/100: max_df=0.700, min_cluster_size=35, min_samples=15\n"
     ]
    },
    {
     "name": "stderr",
     "output_type": "stream",
     "text": [
      "2025-08-25 00:28:56,328 - BERTopic - WARNING: Using a custom list of topic assignments may lead to errors if topic reduction techniques are used afterwards. Make sure that manually assigning topics is the last step in the pipeline.Note that topic embeddings will also be created through weightedc-TF-IDF embeddings instead of centroid embeddings.\n"
     ]
    },
    {
     "name": "stdout",
     "output_type": "stream",
     "text": [
      "Testing combination 30/100: max_df=0.650, min_cluster_size=50, min_samples=15\n"
     ]
    },
    {
     "name": "stderr",
     "output_type": "stream",
     "text": [
      "2025-08-25 00:29:51,615 - BERTopic - WARNING: Using a custom list of topic assignments may lead to errors if topic reduction techniques are used afterwards. Make sure that manually assigning topics is the last step in the pipeline.Note that topic embeddings will also be created through weightedc-TF-IDF embeddings instead of centroid embeddings.\n"
     ]
    },
    {
     "name": "stdout",
     "output_type": "stream",
     "text": [
      "Testing combination 31/100: max_df=0.800, min_cluster_size=45, min_samples=35\n",
      "Testing combination 32/100: max_df=0.600, min_cluster_size=30, min_samples=25\n"
     ]
    },
    {
     "name": "stderr",
     "output_type": "stream",
     "text": [
      "2025-08-25 00:31:36,824 - BERTopic - WARNING: Using a custom list of topic assignments may lead to errors if topic reduction techniques are used afterwards. Make sure that manually assigning topics is the last step in the pipeline.Note that topic embeddings will also be created through weightedc-TF-IDF embeddings instead of centroid embeddings.\n"
     ]
    },
    {
     "name": "stdout",
     "output_type": "stream",
     "text": [
      "Testing combination 33/100: max_df=0.600, min_cluster_size=40, min_samples=35\n",
      "Testing combination 34/100: max_df=0.650, min_cluster_size=45, min_samples=30\n",
      "Testing combination 35/100: max_df=0.450, min_cluster_size=50, min_samples=25\n",
      "Testing combination 36/100: max_df=0.800, min_cluster_size=50, min_samples=30\n",
      "Testing combination 37/100: max_df=0.850, min_cluster_size=45, min_samples=20\n"
     ]
    },
    {
     "name": "stderr",
     "output_type": "stream",
     "text": [
      "2025-08-25 00:35:54,123 - BERTopic - WARNING: Using a custom list of topic assignments may lead to errors if topic reduction techniques are used afterwards. Make sure that manually assigning topics is the last step in the pipeline.Note that topic embeddings will also be created through weightedc-TF-IDF embeddings instead of centroid embeddings.\n"
     ]
    },
    {
     "name": "stdout",
     "output_type": "stream",
     "text": [
      "Testing combination 38/100: max_df=0.400, min_cluster_size=40, min_samples=35\n",
      "Testing combination 39/100: max_df=0.900, min_cluster_size=35, min_samples=20\n"
     ]
    },
    {
     "name": "stderr",
     "output_type": "stream",
     "text": [
      "2025-08-25 00:37:39,568 - BERTopic - WARNING: Using a custom list of topic assignments may lead to errors if topic reduction techniques are used afterwards. Make sure that manually assigning topics is the last step in the pipeline.Note that topic embeddings will also be created through weightedc-TF-IDF embeddings instead of centroid embeddings.\n"
     ]
    },
    {
     "name": "stdout",
     "output_type": "stream",
     "text": [
      "Testing combination 40/100: max_df=0.850, min_cluster_size=40, min_samples=20\n"
     ]
    },
    {
     "name": "stderr",
     "output_type": "stream",
     "text": [
      "2025-08-25 00:38:36,156 - BERTopic - WARNING: Using a custom list of topic assignments may lead to errors if topic reduction techniques are used afterwards. Make sure that manually assigning topics is the last step in the pipeline.Note that topic embeddings will also be created through weightedc-TF-IDF embeddings instead of centroid embeddings.\n"
     ]
    },
    {
     "name": "stdout",
     "output_type": "stream",
     "text": [
      "Testing combination 41/100: max_df=0.800, min_cluster_size=55, min_samples=35\n"
     ]
    },
    {
     "name": "stderr",
     "output_type": "stream",
     "text": [
      "2025-08-25 00:39:31,394 - BERTopic - WARNING: Using a custom list of topic assignments may lead to errors if topic reduction techniques are used afterwards. Make sure that manually assigning topics is the last step in the pipeline.Note that topic embeddings will also be created through weightedc-TF-IDF embeddings instead of centroid embeddings.\n"
     ]
    },
    {
     "name": "stdout",
     "output_type": "stream",
     "text": [
      "Testing combination 42/100: max_df=0.800, min_cluster_size=30, min_samples=30\n",
      "Testing combination 43/100: max_df=0.900, min_cluster_size=45, min_samples=30\n",
      "Testing combination 44/100: max_df=0.900, min_cluster_size=30, min_samples=25\n"
     ]
    },
    {
     "name": "stderr",
     "output_type": "stream",
     "text": [
      "2025-08-25 00:42:08,405 - BERTopic - WARNING: Using a custom list of topic assignments may lead to errors if topic reduction techniques are used afterwards. Make sure that manually assigning topics is the last step in the pipeline.Note that topic embeddings will also be created through weightedc-TF-IDF embeddings instead of centroid embeddings.\n"
     ]
    },
    {
     "name": "stdout",
     "output_type": "stream",
     "text": [
      "Testing combination 45/100: max_df=0.950, min_cluster_size=40, min_samples=35\n",
      "Testing combination 46/100: max_df=0.950, min_cluster_size=40, min_samples=25\n"
     ]
    },
    {
     "name": "stderr",
     "output_type": "stream",
     "text": [
      "2025-08-25 00:43:54,310 - BERTopic - WARNING: Using a custom list of topic assignments may lead to errors if topic reduction techniques are used afterwards. Make sure that manually assigning topics is the last step in the pipeline.Note that topic embeddings will also be created through weightedc-TF-IDF embeddings instead of centroid embeddings.\n"
     ]
    },
    {
     "name": "stdout",
     "output_type": "stream",
     "text": [
      "Testing combination 47/100: max_df=0.750, min_cluster_size=50, min_samples=15\n"
     ]
    },
    {
     "name": "stderr",
     "output_type": "stream",
     "text": [
      "2025-08-25 00:44:47,922 - BERTopic - WARNING: Using a custom list of topic assignments may lead to errors if topic reduction techniques are used afterwards. Make sure that manually assigning topics is the last step in the pipeline.Note that topic embeddings will also be created through weightedc-TF-IDF embeddings instead of centroid embeddings.\n"
     ]
    },
    {
     "name": "stdout",
     "output_type": "stream",
     "text": [
      "Testing combination 48/100: max_df=0.400, min_cluster_size=55, min_samples=20\n"
     ]
    },
    {
     "name": "stderr",
     "output_type": "stream",
     "text": [
      "2025-08-25 00:45:41,685 - BERTopic - WARNING: Using a custom list of topic assignments may lead to errors if topic reduction techniques are used afterwards. Make sure that manually assigning topics is the last step in the pipeline.Note that topic embeddings will also be created through weightedc-TF-IDF embeddings instead of centroid embeddings.\n"
     ]
    },
    {
     "name": "stdout",
     "output_type": "stream",
     "text": [
      "Testing combination 49/100: max_df=0.700, min_cluster_size=55, min_samples=15\n"
     ]
    },
    {
     "name": "stderr",
     "output_type": "stream",
     "text": [
      "2025-08-25 00:46:36,676 - BERTopic - WARNING: Using a custom list of topic assignments may lead to errors if topic reduction techniques are used afterwards. Make sure that manually assigning topics is the last step in the pipeline.Note that topic embeddings will also be created through weightedc-TF-IDF embeddings instead of centroid embeddings.\n"
     ]
    },
    {
     "name": "stdout",
     "output_type": "stream",
     "text": [
      "Testing combination 50/100: max_df=0.550, min_cluster_size=40, min_samples=20\n"
     ]
    },
    {
     "name": "stderr",
     "output_type": "stream",
     "text": [
      "2025-08-25 00:47:30,449 - BERTopic - WARNING: Using a custom list of topic assignments may lead to errors if topic reduction techniques are used afterwards. Make sure that manually assigning topics is the last step in the pipeline.Note that topic embeddings will also be created through weightedc-TF-IDF embeddings instead of centroid embeddings.\n"
     ]
    },
    {
     "name": "stdout",
     "output_type": "stream",
     "text": [
      "Testing combination 51/100: max_df=0.750, min_cluster_size=40, min_samples=35\n",
      "Testing combination 52/100: max_df=0.550, min_cluster_size=30, min_samples=30\n",
      "Testing combination 53/100: max_df=0.500, min_cluster_size=60, min_samples=20\n"
     ]
    },
    {
     "name": "stderr",
     "output_type": "stream",
     "text": [
      "2025-08-25 00:50:07,772 - BERTopic - WARNING: Using a custom list of topic assignments may lead to errors if topic reduction techniques are used afterwards. Make sure that manually assigning topics is the last step in the pipeline.Note that topic embeddings will also be created through weightedc-TF-IDF embeddings instead of centroid embeddings.\n"
     ]
    },
    {
     "name": "stdout",
     "output_type": "stream",
     "text": [
      "Testing combination 54/100: max_df=0.450, min_cluster_size=40, min_samples=25\n"
     ]
    },
    {
     "name": "stderr",
     "output_type": "stream",
     "text": [
      "2025-08-25 00:51:02,655 - BERTopic - WARNING: Using a custom list of topic assignments may lead to errors if topic reduction techniques are used afterwards. Make sure that manually assigning topics is the last step in the pipeline.Note that topic embeddings will also be created through weightedc-TF-IDF embeddings instead of centroid embeddings.\n"
     ]
    },
    {
     "name": "stdout",
     "output_type": "stream",
     "text": [
      "Testing combination 55/100: max_df=0.850, min_cluster_size=50, min_samples=35\n",
      "Testing combination 56/100: max_df=0.800, min_cluster_size=60, min_samples=20\n"
     ]
    },
    {
     "name": "stderr",
     "output_type": "stream",
     "text": [
      "2025-08-25 00:52:48,851 - BERTopic - WARNING: Using a custom list of topic assignments may lead to errors if topic reduction techniques are used afterwards. Make sure that manually assigning topics is the last step in the pipeline.Note that topic embeddings will also be created through weightedc-TF-IDF embeddings instead of centroid embeddings.\n"
     ]
    },
    {
     "name": "stdout",
     "output_type": "stream",
     "text": [
      "Testing combination 57/100: max_df=0.600, min_cluster_size=45, min_samples=35\n",
      "Testing combination 58/100: max_df=0.900, min_cluster_size=40, min_samples=20\n"
     ]
    },
    {
     "name": "stderr",
     "output_type": "stream",
     "text": [
      "2025-08-25 00:54:37,595 - BERTopic - WARNING: Using a custom list of topic assignments may lead to errors if topic reduction techniques are used afterwards. Make sure that manually assigning topics is the last step in the pipeline.Note that topic embeddings will also be created through weightedc-TF-IDF embeddings instead of centroid embeddings.\n"
     ]
    },
    {
     "name": "stdout",
     "output_type": "stream",
     "text": [
      "Testing combination 59/100: max_df=0.400, min_cluster_size=40, min_samples=20\n"
     ]
    },
    {
     "name": "stderr",
     "output_type": "stream",
     "text": [
      "2025-08-25 00:55:33,672 - BERTopic - WARNING: Using a custom list of topic assignments may lead to errors if topic reduction techniques are used afterwards. Make sure that manually assigning topics is the last step in the pipeline.Note that topic embeddings will also be created through weightedc-TF-IDF embeddings instead of centroid embeddings.\n"
     ]
    },
    {
     "name": "stdout",
     "output_type": "stream",
     "text": [
      "Testing combination 60/100: max_df=0.550, min_cluster_size=35, min_samples=25\n"
     ]
    },
    {
     "name": "stderr",
     "output_type": "stream",
     "text": [
      "2025-08-25 00:56:30,002 - BERTopic - WARNING: Using a custom list of topic assignments may lead to errors if topic reduction techniques are used afterwards. Make sure that manually assigning topics is the last step in the pipeline.Note that topic embeddings will also be created through weightedc-TF-IDF embeddings instead of centroid embeddings.\n"
     ]
    },
    {
     "name": "stdout",
     "output_type": "stream",
     "text": [
      "Testing combination 61/100: max_df=0.900, min_cluster_size=45, min_samples=20\n"
     ]
    },
    {
     "name": "stderr",
     "output_type": "stream",
     "text": [
      "2025-08-25 00:57:26,354 - BERTopic - WARNING: Using a custom list of topic assignments may lead to errors if topic reduction techniques are used afterwards. Make sure that manually assigning topics is the last step in the pipeline.Note that topic embeddings will also be created through weightedc-TF-IDF embeddings instead of centroid embeddings.\n"
     ]
    },
    {
     "name": "stdout",
     "output_type": "stream",
     "text": [
      "Testing combination 62/100: max_df=0.850, min_cluster_size=40, min_samples=15\n"
     ]
    },
    {
     "name": "stderr",
     "output_type": "stream",
     "text": [
      "2025-08-25 00:58:22,025 - BERTopic - WARNING: Using a custom list of topic assignments may lead to errors if topic reduction techniques are used afterwards. Make sure that manually assigning topics is the last step in the pipeline.Note that topic embeddings will also be created through weightedc-TF-IDF embeddings instead of centroid embeddings.\n"
     ]
    },
    {
     "name": "stdout",
     "output_type": "stream",
     "text": [
      "Testing combination 63/100: max_df=0.900, min_cluster_size=45, min_samples=25\n"
     ]
    },
    {
     "name": "stderr",
     "output_type": "stream",
     "text": [
      "2025-08-25 00:59:18,573 - BERTopic - WARNING: Using a custom list of topic assignments may lead to errors if topic reduction techniques are used afterwards. Make sure that manually assigning topics is the last step in the pipeline.Note that topic embeddings will also be created through weightedc-TF-IDF embeddings instead of centroid embeddings.\n"
     ]
    },
    {
     "name": "stdout",
     "output_type": "stream",
     "text": [
      "Testing combination 64/100: max_df=0.650, min_cluster_size=60, min_samples=30\n"
     ]
    },
    {
     "name": "stderr",
     "output_type": "stream",
     "text": [
      "2025-08-25 01:00:14,240 - BERTopic - WARNING: Using a custom list of topic assignments may lead to errors if topic reduction techniques are used afterwards. Make sure that manually assigning topics is the last step in the pipeline.Note that topic embeddings will also be created through weightedc-TF-IDF embeddings instead of centroid embeddings.\n"
     ]
    },
    {
     "name": "stdout",
     "output_type": "stream",
     "text": [
      "Testing combination 65/100: max_df=0.850, min_cluster_size=40, min_samples=25\n"
     ]
    },
    {
     "name": "stderr",
     "output_type": "stream",
     "text": [
      "2025-08-25 01:01:09,215 - BERTopic - WARNING: Using a custom list of topic assignments may lead to errors if topic reduction techniques are used afterwards. Make sure that manually assigning topics is the last step in the pipeline.Note that topic embeddings will also be created through weightedc-TF-IDF embeddings instead of centroid embeddings.\n"
     ]
    },
    {
     "name": "stdout",
     "output_type": "stream",
     "text": [
      "Testing combination 66/100: max_df=0.850, min_cluster_size=60, min_samples=15\n"
     ]
    },
    {
     "name": "stderr",
     "output_type": "stream",
     "text": [
      "2025-08-25 01:02:04,128 - BERTopic - WARNING: Using a custom list of topic assignments may lead to errors if topic reduction techniques are used afterwards. Make sure that manually assigning topics is the last step in the pipeline.Note that topic embeddings will also be created through weightedc-TF-IDF embeddings instead of centroid embeddings.\n"
     ]
    },
    {
     "name": "stdout",
     "output_type": "stream",
     "text": [
      "Testing combination 67/100: max_df=0.800, min_cluster_size=55, min_samples=15\n"
     ]
    },
    {
     "name": "stderr",
     "output_type": "stream",
     "text": [
      "2025-08-25 01:02:57,739 - BERTopic - WARNING: Using a custom list of topic assignments may lead to errors if topic reduction techniques are used afterwards. Make sure that manually assigning topics is the last step in the pipeline.Note that topic embeddings will also be created through weightedc-TF-IDF embeddings instead of centroid embeddings.\n"
     ]
    },
    {
     "name": "stdout",
     "output_type": "stream",
     "text": [
      "Testing combination 68/100: max_df=0.700, min_cluster_size=60, min_samples=25\n"
     ]
    },
    {
     "name": "stderr",
     "output_type": "stream",
     "text": [
      "2025-08-25 01:03:51,614 - BERTopic - WARNING: Using a custom list of topic assignments may lead to errors if topic reduction techniques are used afterwards. Make sure that manually assigning topics is the last step in the pipeline.Note that topic embeddings will also be created through weightedc-TF-IDF embeddings instead of centroid embeddings.\n"
     ]
    },
    {
     "name": "stdout",
     "output_type": "stream",
     "text": [
      "Testing combination 69/100: max_df=0.750, min_cluster_size=40, min_samples=30\n",
      "Testing combination 70/100: max_df=0.450, min_cluster_size=60, min_samples=25\n"
     ]
    },
    {
     "name": "stderr",
     "output_type": "stream",
     "text": [
      "2025-08-25 01:05:39,669 - BERTopic - WARNING: Using a custom list of topic assignments may lead to errors if topic reduction techniques are used afterwards. Make sure that manually assigning topics is the last step in the pipeline.Note that topic embeddings will also be created through weightedc-TF-IDF embeddings instead of centroid embeddings.\n"
     ]
    },
    {
     "name": "stdout",
     "output_type": "stream",
     "text": [
      "Testing combination 71/100: max_df=0.700, min_cluster_size=50, min_samples=20\n"
     ]
    },
    {
     "name": "stderr",
     "output_type": "stream",
     "text": [
      "2025-08-25 01:06:36,973 - BERTopic - WARNING: Using a custom list of topic assignments may lead to errors if topic reduction techniques are used afterwards. Make sure that manually assigning topics is the last step in the pipeline.Note that topic embeddings will also be created through weightedc-TF-IDF embeddings instead of centroid embeddings.\n"
     ]
    },
    {
     "name": "stdout",
     "output_type": "stream",
     "text": [
      "Testing combination 72/100: max_df=0.650, min_cluster_size=45, min_samples=35\n",
      "Testing combination 73/100: max_df=0.500, min_cluster_size=30, min_samples=15\n"
     ]
    },
    {
     "name": "stderr",
     "output_type": "stream",
     "text": [
      "2025-08-25 01:08:22,786 - BERTopic - WARNING: Using a custom list of topic assignments may lead to errors if topic reduction techniques are used afterwards. Make sure that manually assigning topics is the last step in the pipeline.Note that topic embeddings will also be created through weightedc-TF-IDF embeddings instead of centroid embeddings.\n"
     ]
    },
    {
     "name": "stdout",
     "output_type": "stream",
     "text": [
      "Testing combination 74/100: max_df=0.900, min_cluster_size=35, min_samples=35\n",
      "Testing combination 75/100: max_df=0.650, min_cluster_size=50, min_samples=20\n"
     ]
    },
    {
     "name": "stderr",
     "output_type": "stream",
     "text": [
      "2025-08-25 01:10:10,981 - BERTopic - WARNING: Using a custom list of topic assignments may lead to errors if topic reduction techniques are used afterwards. Make sure that manually assigning topics is the last step in the pipeline.Note that topic embeddings will also be created through weightedc-TF-IDF embeddings instead of centroid embeddings.\n"
     ]
    },
    {
     "name": "stdout",
     "output_type": "stream",
     "text": [
      "Testing combination 76/100: max_df=0.950, min_cluster_size=30, min_samples=30\n",
      "Testing combination 77/100: max_df=0.800, min_cluster_size=50, min_samples=20\n"
     ]
    },
    {
     "name": "stderr",
     "output_type": "stream",
     "text": [
      "2025-08-25 01:11:58,108 - BERTopic - WARNING: Using a custom list of topic assignments may lead to errors if topic reduction techniques are used afterwards. Make sure that manually assigning topics is the last step in the pipeline.Note that topic embeddings will also be created through weightedc-TF-IDF embeddings instead of centroid embeddings.\n"
     ]
    },
    {
     "name": "stdout",
     "output_type": "stream",
     "text": [
      "Testing combination 78/100: max_df=0.900, min_cluster_size=45, min_samples=15\n"
     ]
    },
    {
     "name": "stderr",
     "output_type": "stream",
     "text": [
      "2025-08-25 01:12:53,764 - BERTopic - WARNING: Using a custom list of topic assignments may lead to errors if topic reduction techniques are used afterwards. Make sure that manually assigning topics is the last step in the pipeline.Note that topic embeddings will also be created through weightedc-TF-IDF embeddings instead of centroid embeddings.\n"
     ]
    },
    {
     "name": "stdout",
     "output_type": "stream",
     "text": [
      "Testing combination 79/100: max_df=0.750, min_cluster_size=30, min_samples=25\n"
     ]
    },
    {
     "name": "stderr",
     "output_type": "stream",
     "text": [
      "2025-08-25 01:13:51,034 - BERTopic - WARNING: Using a custom list of topic assignments may lead to errors if topic reduction techniques are used afterwards. Make sure that manually assigning topics is the last step in the pipeline.Note that topic embeddings will also be created through weightedc-TF-IDF embeddings instead of centroid embeddings.\n"
     ]
    },
    {
     "name": "stdout",
     "output_type": "stream",
     "text": [
      "Testing combination 80/100: max_df=0.900, min_cluster_size=50, min_samples=25\n",
      "Testing combination 81/100: max_df=0.700, min_cluster_size=45, min_samples=20\n"
     ]
    },
    {
     "name": "stderr",
     "output_type": "stream",
     "text": [
      "2025-08-25 01:15:38,492 - BERTopic - WARNING: Using a custom list of topic assignments may lead to errors if topic reduction techniques are used afterwards. Make sure that manually assigning topics is the last step in the pipeline.Note that topic embeddings will also be created through weightedc-TF-IDF embeddings instead of centroid embeddings.\n"
     ]
    },
    {
     "name": "stdout",
     "output_type": "stream",
     "text": [
      "Testing combination 82/100: max_df=0.950, min_cluster_size=30, min_samples=15\n"
     ]
    },
    {
     "name": "stderr",
     "output_type": "stream",
     "text": [
      "2025-08-25 01:16:34,034 - BERTopic - WARNING: Using a custom list of topic assignments may lead to errors if topic reduction techniques are used afterwards. Make sure that manually assigning topics is the last step in the pipeline.Note that topic embeddings will also be created through weightedc-TF-IDF embeddings instead of centroid embeddings.\n"
     ]
    },
    {
     "name": "stdout",
     "output_type": "stream",
     "text": [
      "Testing combination 83/100: max_df=0.750, min_cluster_size=55, min_samples=30\n"
     ]
    },
    {
     "name": "stderr",
     "output_type": "stream",
     "text": [
      "2025-08-25 01:17:33,136 - BERTopic - WARNING: Using a custom list of topic assignments may lead to errors if topic reduction techniques are used afterwards. Make sure that manually assigning topics is the last step in the pipeline.Note that topic embeddings will also be created through weightedc-TF-IDF embeddings instead of centroid embeddings.\n"
     ]
    },
    {
     "name": "stdout",
     "output_type": "stream",
     "text": [
      "Testing combination 84/100: max_df=0.500, min_cluster_size=50, min_samples=15\n"
     ]
    },
    {
     "name": "stderr",
     "output_type": "stream",
     "text": [
      "2025-08-25 01:18:28,582 - BERTopic - WARNING: Using a custom list of topic assignments may lead to errors if topic reduction techniques are used afterwards. Make sure that manually assigning topics is the last step in the pipeline.Note that topic embeddings will also be created through weightedc-TF-IDF embeddings instead of centroid embeddings.\n"
     ]
    },
    {
     "name": "stdout",
     "output_type": "stream",
     "text": [
      "Testing combination 85/100: max_df=0.450, min_cluster_size=45, min_samples=30\n",
      "Testing combination 86/100: max_df=0.450, min_cluster_size=30, min_samples=30\n",
      "Testing combination 87/100: max_df=0.600, min_cluster_size=60, min_samples=30\n"
     ]
    },
    {
     "name": "stderr",
     "output_type": "stream",
     "text": [
      "2025-08-25 01:21:05,209 - BERTopic - WARNING: Using a custom list of topic assignments may lead to errors if topic reduction techniques are used afterwards. Make sure that manually assigning topics is the last step in the pipeline.Note that topic embeddings will also be created through weightedc-TF-IDF embeddings instead of centroid embeddings.\n"
     ]
    },
    {
     "name": "stdout",
     "output_type": "stream",
     "text": [
      "Testing combination 88/100: max_df=0.550, min_cluster_size=60, min_samples=25\n"
     ]
    },
    {
     "name": "stderr",
     "output_type": "stream",
     "text": [
      "2025-08-25 01:22:00,449 - BERTopic - WARNING: Using a custom list of topic assignments may lead to errors if topic reduction techniques are used afterwards. Make sure that manually assigning topics is the last step in the pipeline.Note that topic embeddings will also be created through weightedc-TF-IDF embeddings instead of centroid embeddings.\n"
     ]
    },
    {
     "name": "stdout",
     "output_type": "stream",
     "text": [
      "Testing combination 89/100: max_df=0.650, min_cluster_size=30, min_samples=20\n"
     ]
    },
    {
     "name": "stderr",
     "output_type": "stream",
     "text": [
      "2025-08-25 01:22:57,589 - BERTopic - WARNING: Using a custom list of topic assignments may lead to errors if topic reduction techniques are used afterwards. Make sure that manually assigning topics is the last step in the pipeline.Note that topic embeddings will also be created through weightedc-TF-IDF embeddings instead of centroid embeddings.\n"
     ]
    },
    {
     "name": "stdout",
     "output_type": "stream",
     "text": [
      "Testing combination 90/100: max_df=0.700, min_cluster_size=40, min_samples=30\n",
      "Testing combination 91/100: max_df=0.750, min_cluster_size=35, min_samples=35\n",
      "Testing combination 92/100: max_df=0.950, min_cluster_size=55, min_samples=15\n"
     ]
    },
    {
     "name": "stderr",
     "output_type": "stream",
     "text": [
      "2025-08-25 01:25:34,461 - BERTopic - WARNING: Using a custom list of topic assignments may lead to errors if topic reduction techniques are used afterwards. Make sure that manually assigning topics is the last step in the pipeline.Note that topic embeddings will also be created through weightedc-TF-IDF embeddings instead of centroid embeddings.\n"
     ]
    },
    {
     "name": "stdout",
     "output_type": "stream",
     "text": [
      "Testing combination 93/100: max_df=0.400, min_cluster_size=50, min_samples=20\n"
     ]
    },
    {
     "name": "stderr",
     "output_type": "stream",
     "text": [
      "2025-08-25 01:26:28,286 - BERTopic - WARNING: Using a custom list of topic assignments may lead to errors if topic reduction techniques are used afterwards. Make sure that manually assigning topics is the last step in the pipeline.Note that topic embeddings will also be created through weightedc-TF-IDF embeddings instead of centroid embeddings.\n"
     ]
    },
    {
     "name": "stdout",
     "output_type": "stream",
     "text": [
      "Testing combination 94/100: max_df=0.550, min_cluster_size=50, min_samples=25\n",
      "Testing combination 95/100: max_df=0.800, min_cluster_size=40, min_samples=35\n",
      "Testing combination 96/100: max_df=0.800, min_cluster_size=40, min_samples=20\n"
     ]
    },
    {
     "name": "stderr",
     "output_type": "stream",
     "text": [
      "2025-08-25 01:29:04,873 - BERTopic - WARNING: Using a custom list of topic assignments may lead to errors if topic reduction techniques are used afterwards. Make sure that manually assigning topics is the last step in the pipeline.Note that topic embeddings will also be created through weightedc-TF-IDF embeddings instead of centroid embeddings.\n"
     ]
    },
    {
     "name": "stdout",
     "output_type": "stream",
     "text": [
      "Testing combination 97/100: max_df=0.700, min_cluster_size=50, min_samples=25\n",
      "Testing combination 98/100: max_df=0.550, min_cluster_size=45, min_samples=15\n"
     ]
    },
    {
     "name": "stderr",
     "output_type": "stream",
     "text": [
      "2025-08-25 01:30:53,593 - BERTopic - WARNING: Using a custom list of topic assignments may lead to errors if topic reduction techniques are used afterwards. Make sure that manually assigning topics is the last step in the pipeline.Note that topic embeddings will also be created through weightedc-TF-IDF embeddings instead of centroid embeddings.\n"
     ]
    },
    {
     "name": "stdout",
     "output_type": "stream",
     "text": [
      "Testing combination 99/100: max_df=0.850, min_cluster_size=30, min_samples=30\n",
      "Testing combination 100/100: max_df=0.550, min_cluster_size=60, min_samples=30\n"
     ]
    },
    {
     "name": "stderr",
     "output_type": "stream",
     "text": [
      "2025-08-25 01:32:42,942 - BERTopic - WARNING: Using a custom list of topic assignments may lead to errors if topic reduction techniques are used afterwards. Make sure that manually assigning topics is the last step in the pipeline.Note that topic embeddings will also be created through weightedc-TF-IDF embeddings instead of centroid embeddings.\n"
     ]
    },
    {
     "name": "stdout",
     "output_type": "stream",
     "text": [
      "\n",
      "Top 5 Parameter Combinations:\n",
      "\n",
      "Rank 1:\n",
      "max_df: 0.450, min_cluster_size: 35, min_samples: 30\n",
      "Coherence: 0.5018, Diversity: 0.7714, Silhouette: 0.0297\n",
      "Combined Score: 0.4343\n",
      "\n",
      "Rank 2:\n",
      "max_df: 0.500, min_cluster_size: 40, min_samples: 35\n",
      "Coherence: 0.4813, Diversity: 0.7267, Silhouette: 0.0075\n",
      "Combined Score: 0.4052\n",
      "\n",
      "Rank 3:\n",
      "max_df: 0.500, min_cluster_size: 30, min_samples: 15\n",
      "Coherence: 0.4395, Diversity: 0.8091, Silhouette: -0.0355\n",
      "Combined Score: 0.4044\n",
      "\n",
      "Rank 4:\n",
      "max_df: 0.450, min_cluster_size: 60, min_samples: 25\n",
      "Coherence: 0.4691, Diversity: 0.7000, Silhouette: 0.0200\n",
      "Combined Score: 0.3964\n",
      "\n",
      "Rank 5:\n",
      "max_df: 0.450, min_cluster_size: 50, min_samples: 25\n",
      "Coherence: 0.4574, Diversity: 0.7000, Silhouette: 0.0200\n",
      "Combined Score: 0.3925\n",
      "\n",
      "Grid search results saved to: e:\\Studying in Adelaide\\2_Trimester-2\\project_A_ML-Mental Health (MDS)\\LLM_NetworkMoel_MentalHealth_coding\\topic_modeling_results_depression.csv\n",
      "\n",
      "\n",
      "=== Processing category: PTSD and trauma ===\n",
      "\n"
     ]
    },
    {
     "name": "stderr",
     "output_type": "stream",
     "text": [
      "Some weights of BertModel were not initialized from the model checkpoint at mental/mental-bert-base-uncased and are newly initialized: ['pooler.dense.bias', 'pooler.dense.weight']\n",
      "You should probably TRAIN this model on a down-stream task to be able to use it for predictions and inference.\n"
     ]
    },
    {
     "name": "stdout",
     "output_type": "stream",
     "text": [
      "Testing combination 1/100: max_df=0.800, min_cluster_size=45, min_samples=15\n"
     ]
    },
    {
     "name": "stderr",
     "output_type": "stream",
     "text": [
      "2025-08-25 01:33:44,154 - BERTopic - WARNING: Using a custom list of topic assignments may lead to errors if topic reduction techniques are used afterwards. Make sure that manually assigning topics is the last step in the pipeline.Note that topic embeddings will also be created through weightedc-TF-IDF embeddings instead of centroid embeddings.\n"
     ]
    },
    {
     "name": "stdout",
     "output_type": "stream",
     "text": [
      "Testing combination 2/100: max_df=0.500, min_cluster_size=55, min_samples=25\n",
      "Testing combination 3/100: max_df=0.950, min_cluster_size=55, min_samples=35\n",
      "Testing combination 4/100: max_df=0.950, min_cluster_size=35, min_samples=35\n",
      "Testing combination 5/100: max_df=0.850, min_cluster_size=45, min_samples=25\n",
      "Testing combination 6/100: max_df=0.800, min_cluster_size=55, min_samples=20\n",
      "Testing combination 7/100: max_df=0.800, min_cluster_size=60, min_samples=35\n",
      "Testing combination 8/100: max_df=0.750, min_cluster_size=40, min_samples=20\n"
     ]
    },
    {
     "name": "stderr",
     "output_type": "stream",
     "text": [
      "2025-08-25 01:39:59,950 - BERTopic - WARNING: Using a custom list of topic assignments may lead to errors if topic reduction techniques are used afterwards. Make sure that manually assigning topics is the last step in the pipeline.Note that topic embeddings will also be created through weightedc-TF-IDF embeddings instead of centroid embeddings.\n"
     ]
    },
    {
     "name": "stdout",
     "output_type": "stream",
     "text": [
      "Testing combination 9/100: max_df=0.950, min_cluster_size=40, min_samples=30\n",
      "Testing combination 10/100: max_df=0.950, min_cluster_size=45, min_samples=20\n"
     ]
    },
    {
     "name": "stderr",
     "output_type": "stream",
     "text": [
      "2025-08-25 01:41:51,723 - BERTopic - WARNING: Using a custom list of topic assignments may lead to errors if topic reduction techniques are used afterwards. Make sure that manually assigning topics is the last step in the pipeline.Note that topic embeddings will also be created through weightedc-TF-IDF embeddings instead of centroid embeddings.\n"
     ]
    },
    {
     "name": "stdout",
     "output_type": "stream",
     "text": [
      "Testing combination 11/100: max_df=0.700, min_cluster_size=55, min_samples=15\n",
      "Testing combination 12/100: max_df=0.750, min_cluster_size=45, min_samples=20\n"
     ]
    },
    {
     "name": "stderr",
     "output_type": "stream",
     "text": [
      "2025-08-25 01:43:44,640 - BERTopic - WARNING: Using a custom list of topic assignments may lead to errors if topic reduction techniques are used afterwards. Make sure that manually assigning topics is the last step in the pipeline.Note that topic embeddings will also be created through weightedc-TF-IDF embeddings instead of centroid embeddings.\n"
     ]
    },
    {
     "name": "stdout",
     "output_type": "stream",
     "text": [
      "Testing combination 13/100: max_df=0.400, min_cluster_size=30, min_samples=25\n"
     ]
    },
    {
     "name": "stderr",
     "output_type": "stream",
     "text": [
      "2025-08-25 01:44:41,753 - BERTopic - WARNING: Using a custom list of topic assignments may lead to errors if topic reduction techniques are used afterwards. Make sure that manually assigning topics is the last step in the pipeline.Note that topic embeddings will also be created through weightedc-TF-IDF embeddings instead of centroid embeddings.\n"
     ]
    },
    {
     "name": "stdout",
     "output_type": "stream",
     "text": [
      "Testing combination 14/100: max_df=0.450, min_cluster_size=60, min_samples=25\n",
      "Testing combination 15/100: max_df=0.400, min_cluster_size=45, min_samples=25\n",
      "Testing combination 16/100: max_df=0.850, min_cluster_size=40, min_samples=20\n"
     ]
    },
    {
     "name": "stderr",
     "output_type": "stream",
     "text": [
      "2025-08-25 01:47:26,553 - BERTopic - WARNING: Using a custom list of topic assignments may lead to errors if topic reduction techniques are used afterwards. Make sure that manually assigning topics is the last step in the pipeline.Note that topic embeddings will also be created through weightedc-TF-IDF embeddings instead of centroid embeddings.\n"
     ]
    },
    {
     "name": "stdout",
     "output_type": "stream",
     "text": [
      "Testing combination 17/100: max_df=0.950, min_cluster_size=50, min_samples=25\n",
      "Testing combination 18/100: max_df=0.450, min_cluster_size=55, min_samples=20\n",
      "Testing combination 19/100: max_df=0.550, min_cluster_size=45, min_samples=25\n",
      "Testing combination 20/100: max_df=0.500, min_cluster_size=45, min_samples=30\n",
      "Testing combination 21/100: max_df=0.450, min_cluster_size=30, min_samples=30\n"
     ]
    },
    {
     "name": "stderr",
     "output_type": "stream",
     "text": [
      "2025-08-25 01:51:56,067 - BERTopic - WARNING: Using a custom list of topic assignments may lead to errors if topic reduction techniques are used afterwards. Make sure that manually assigning topics is the last step in the pipeline.Note that topic embeddings will also be created through weightedc-TF-IDF embeddings instead of centroid embeddings.\n"
     ]
    },
    {
     "name": "stdout",
     "output_type": "stream",
     "text": [
      "Testing combination 22/100: max_df=0.450, min_cluster_size=35, min_samples=15\n",
      "Testing combination 23/100: max_df=0.600, min_cluster_size=35, min_samples=20\n"
     ]
    },
    {
     "name": "stderr",
     "output_type": "stream",
     "text": [
      "2025-08-25 01:53:51,730 - BERTopic - WARNING: Using a custom list of topic assignments may lead to errors if topic reduction techniques are used afterwards. Make sure that manually assigning topics is the last step in the pipeline.Note that topic embeddings will also be created through weightedc-TF-IDF embeddings instead of centroid embeddings.\n"
     ]
    },
    {
     "name": "stdout",
     "output_type": "stream",
     "text": [
      "Testing combination 24/100: max_df=0.800, min_cluster_size=50, min_samples=20\n"
     ]
    },
    {
     "name": "stderr",
     "output_type": "stream",
     "text": [
      "2025-08-25 01:54:56,036 - BERTopic - WARNING: Using a custom list of topic assignments may lead to errors if topic reduction techniques are used afterwards. Make sure that manually assigning topics is the last step in the pipeline.Note that topic embeddings will also be created through weightedc-TF-IDF embeddings instead of centroid embeddings.\n"
     ]
    },
    {
     "name": "stdout",
     "output_type": "stream",
     "text": [
      "Testing combination 25/100: max_df=0.450, min_cluster_size=60, min_samples=30\n",
      "Testing combination 26/100: max_df=0.950, min_cluster_size=30, min_samples=15\n"
     ]
    },
    {
     "name": "stderr",
     "output_type": "stream",
     "text": [
      "2025-08-25 01:56:47,017 - BERTopic - WARNING: Using a custom list of topic assignments may lead to errors if topic reduction techniques are used afterwards. Make sure that manually assigning topics is the last step in the pipeline.Note that topic embeddings will also be created through weightedc-TF-IDF embeddings instead of centroid embeddings.\n"
     ]
    },
    {
     "name": "stdout",
     "output_type": "stream",
     "text": [
      "Testing combination 27/100: max_df=0.400, min_cluster_size=40, min_samples=20\n"
     ]
    },
    {
     "name": "stderr",
     "output_type": "stream",
     "text": [
      "2025-08-25 01:57:48,782 - BERTopic - WARNING: Using a custom list of topic assignments may lead to errors if topic reduction techniques are used afterwards. Make sure that manually assigning topics is the last step in the pipeline.Note that topic embeddings will also be created through weightedc-TF-IDF embeddings instead of centroid embeddings.\n"
     ]
    },
    {
     "name": "stdout",
     "output_type": "stream",
     "text": [
      "Testing combination 28/100: max_df=0.550, min_cluster_size=35, min_samples=15\n",
      "Testing combination 29/100: max_df=0.600, min_cluster_size=45, min_samples=15\n"
     ]
    },
    {
     "name": "stderr",
     "output_type": "stream",
     "text": [
      "2025-08-25 01:59:44,898 - BERTopic - WARNING: Using a custom list of topic assignments may lead to errors if topic reduction techniques are used afterwards. Make sure that manually assigning topics is the last step in the pipeline.Note that topic embeddings will also be created through weightedc-TF-IDF embeddings instead of centroid embeddings.\n"
     ]
    },
    {
     "name": "stdout",
     "output_type": "stream",
     "text": [
      "Testing combination 30/100: max_df=0.650, min_cluster_size=55, min_samples=25\n",
      "Testing combination 31/100: max_df=0.800, min_cluster_size=35, min_samples=35\n",
      "Testing combination 32/100: max_df=0.400, min_cluster_size=60, min_samples=20\n",
      "Testing combination 33/100: max_df=0.600, min_cluster_size=45, min_samples=20\n"
     ]
    },
    {
     "name": "stderr",
     "output_type": "stream",
     "text": [
      "2025-08-25 02:03:23,402 - BERTopic - WARNING: Using a custom list of topic assignments may lead to errors if topic reduction techniques are used afterwards. Make sure that manually assigning topics is the last step in the pipeline.Note that topic embeddings will also be created through weightedc-TF-IDF embeddings instead of centroid embeddings.\n"
     ]
    },
    {
     "name": "stdout",
     "output_type": "stream",
     "text": [
      "Testing combination 34/100: max_df=0.400, min_cluster_size=55, min_samples=35\n",
      "Testing combination 35/100: max_df=0.650, min_cluster_size=50, min_samples=35\n",
      "Testing combination 36/100: max_df=0.700, min_cluster_size=45, min_samples=25\n",
      "Testing combination 37/100: max_df=0.900, min_cluster_size=50, min_samples=15\n"
     ]
    },
    {
     "name": "stderr",
     "output_type": "stream",
     "text": [
      "2025-08-25 02:07:00,497 - BERTopic - WARNING: Using a custom list of topic assignments may lead to errors if topic reduction techniques are used afterwards. Make sure that manually assigning topics is the last step in the pipeline.Note that topic embeddings will also be created through weightedc-TF-IDF embeddings instead of centroid embeddings.\n"
     ]
    },
    {
     "name": "stdout",
     "output_type": "stream",
     "text": [
      "Testing combination 38/100: max_df=0.800, min_cluster_size=50, min_samples=35\n",
      "Testing combination 39/100: max_df=0.600, min_cluster_size=30, min_samples=30\n"
     ]
    },
    {
     "name": "stderr",
     "output_type": "stream",
     "text": [
      "2025-08-25 02:08:52,183 - BERTopic - WARNING: Using a custom list of topic assignments may lead to errors if topic reduction techniques are used afterwards. Make sure that manually assigning topics is the last step in the pipeline.Note that topic embeddings will also be created through weightedc-TF-IDF embeddings instead of centroid embeddings.\n"
     ]
    },
    {
     "name": "stdout",
     "output_type": "stream",
     "text": [
      "Testing combination 40/100: max_df=0.500, min_cluster_size=45, min_samples=15\n"
     ]
    },
    {
     "name": "stderr",
     "output_type": "stream",
     "text": [
      "2025-08-25 02:09:51,158 - BERTopic - WARNING: Using a custom list of topic assignments may lead to errors if topic reduction techniques are used afterwards. Make sure that manually assigning topics is the last step in the pipeline.Note that topic embeddings will also be created through weightedc-TF-IDF embeddings instead of centroid embeddings.\n"
     ]
    },
    {
     "name": "stdout",
     "output_type": "stream",
     "text": [
      "Testing combination 41/100: max_df=0.500, min_cluster_size=60, min_samples=25\n",
      "Testing combination 42/100: max_df=0.850, min_cluster_size=45, min_samples=20\n"
     ]
    },
    {
     "name": "stderr",
     "output_type": "stream",
     "text": [
      "2025-08-25 02:11:43,334 - BERTopic - WARNING: Using a custom list of topic assignments may lead to errors if topic reduction techniques are used afterwards. Make sure that manually assigning topics is the last step in the pipeline.Note that topic embeddings will also be created through weightedc-TF-IDF embeddings instead of centroid embeddings.\n"
     ]
    },
    {
     "name": "stdout",
     "output_type": "stream",
     "text": [
      "Testing combination 43/100: max_df=0.700, min_cluster_size=35, min_samples=15\n",
      "Testing combination 44/100: max_df=0.650, min_cluster_size=35, min_samples=30\n"
     ]
    },
    {
     "name": "stderr",
     "output_type": "stream",
     "text": [
      "2025-08-25 02:13:40,581 - BERTopic - WARNING: Using a custom list of topic assignments may lead to errors if topic reduction techniques are used afterwards. Make sure that manually assigning topics is the last step in the pipeline.Note that topic embeddings will also be created through weightedc-TF-IDF embeddings instead of centroid embeddings.\n"
     ]
    },
    {
     "name": "stdout",
     "output_type": "stream",
     "text": [
      "Testing combination 45/100: max_df=0.500, min_cluster_size=60, min_samples=30\n",
      "Testing combination 46/100: max_df=0.550, min_cluster_size=50, min_samples=35\n",
      "Testing combination 47/100: max_df=0.500, min_cluster_size=45, min_samples=25\n",
      "Testing combination 48/100: max_df=0.750, min_cluster_size=60, min_samples=35\n",
      "Testing combination 49/100: max_df=0.900, min_cluster_size=40, min_samples=20\n"
     ]
    },
    {
     "name": "stderr",
     "output_type": "stream",
     "text": [
      "2025-08-25 02:18:09,791 - BERTopic - WARNING: Using a custom list of topic assignments may lead to errors if topic reduction techniques are used afterwards. Make sure that manually assigning topics is the last step in the pipeline.Note that topic embeddings will also be created through weightedc-TF-IDF embeddings instead of centroid embeddings.\n"
     ]
    },
    {
     "name": "stdout",
     "output_type": "stream",
     "text": [
      "Testing combination 50/100: max_df=0.450, min_cluster_size=40, min_samples=30\n",
      "Testing combination 51/100: max_df=0.650, min_cluster_size=35, min_samples=20\n"
     ]
    },
    {
     "name": "stderr",
     "output_type": "stream",
     "text": [
      "2025-08-25 02:20:01,682 - BERTopic - WARNING: Using a custom list of topic assignments may lead to errors if topic reduction techniques are used afterwards. Make sure that manually assigning topics is the last step in the pipeline.Note that topic embeddings will also be created through weightedc-TF-IDF embeddings instead of centroid embeddings.\n"
     ]
    },
    {
     "name": "stdout",
     "output_type": "stream",
     "text": [
      "Testing combination 52/100: max_df=0.600, min_cluster_size=45, min_samples=25\n",
      "Testing combination 53/100: max_df=0.650, min_cluster_size=50, min_samples=15\n"
     ]
    },
    {
     "name": "stderr",
     "output_type": "stream",
     "text": [
      "2025-08-25 02:21:54,368 - BERTopic - WARNING: Using a custom list of topic assignments may lead to errors if topic reduction techniques are used afterwards. Make sure that manually assigning topics is the last step in the pipeline.Note that topic embeddings will also be created through weightedc-TF-IDF embeddings instead of centroid embeddings.\n"
     ]
    },
    {
     "name": "stdout",
     "output_type": "stream",
     "text": [
      "Testing combination 54/100: max_df=0.900, min_cluster_size=30, min_samples=35\n",
      "Testing combination 55/100: max_df=0.400, min_cluster_size=50, min_samples=15\n"
     ]
    },
    {
     "name": "stderr",
     "output_type": "stream",
     "text": [
      "2025-08-25 02:23:46,842 - BERTopic - WARNING: Using a custom list of topic assignments may lead to errors if topic reduction techniques are used afterwards. Make sure that manually assigning topics is the last step in the pipeline.Note that topic embeddings will also be created through weightedc-TF-IDF embeddings instead of centroid embeddings.\n"
     ]
    },
    {
     "name": "stdout",
     "output_type": "stream",
     "text": [
      "Testing combination 56/100: max_df=0.900, min_cluster_size=55, min_samples=15\n",
      "Testing combination 57/100: max_df=0.850, min_cluster_size=55, min_samples=25\n",
      "Testing combination 58/100: max_df=0.700, min_cluster_size=60, min_samples=35\n",
      "Testing combination 59/100: max_df=0.500, min_cluster_size=40, min_samples=30\n",
      "Testing combination 60/100: max_df=0.700, min_cluster_size=40, min_samples=20\n"
     ]
    },
    {
     "name": "stderr",
     "output_type": "stream",
     "text": [
      "2025-08-25 02:28:19,923 - BERTopic - WARNING: Using a custom list of topic assignments may lead to errors if topic reduction techniques are used afterwards. Make sure that manually assigning topics is the last step in the pipeline.Note that topic embeddings will also be created through weightedc-TF-IDF embeddings instead of centroid embeddings.\n"
     ]
    },
    {
     "name": "stdout",
     "output_type": "stream",
     "text": [
      "Testing combination 61/100: max_df=0.500, min_cluster_size=55, min_samples=30\n"
     ]
    },
    {
     "name": "stderr",
     "output_type": "stream",
     "text": [
      "2025-08-25 02:29:19,301 - BERTopic - WARNING: Using a custom list of topic assignments may lead to errors if topic reduction techniques are used afterwards. Make sure that manually assigning topics is the last step in the pipeline.Note that topic embeddings will also be created through weightedc-TF-IDF embeddings instead of centroid embeddings.\n"
     ]
    },
    {
     "name": "stdout",
     "output_type": "stream",
     "text": [
      "Testing combination 62/100: max_df=0.800, min_cluster_size=40, min_samples=25\n"
     ]
    },
    {
     "name": "stderr",
     "output_type": "stream",
     "text": [
      "2025-08-25 02:30:18,262 - BERTopic - WARNING: Using a custom list of topic assignments may lead to errors if topic reduction techniques are used afterwards. Make sure that manually assigning topics is the last step in the pipeline.Note that topic embeddings will also be created through weightedc-TF-IDF embeddings instead of centroid embeddings.\n"
     ]
    },
    {
     "name": "stdout",
     "output_type": "stream",
     "text": [
      "Testing combination 63/100: max_df=0.750, min_cluster_size=35, min_samples=15\n",
      "Testing combination 64/100: max_df=0.650, min_cluster_size=40, min_samples=30\n",
      "Testing combination 65/100: max_df=0.650, min_cluster_size=45, min_samples=30\n",
      "Testing combination 66/100: max_df=0.600, min_cluster_size=30, min_samples=20\n"
     ]
    },
    {
     "name": "stderr",
     "output_type": "stream",
     "text": [
      "2025-08-25 02:33:59,483 - BERTopic - WARNING: Using a custom list of topic assignments may lead to errors if topic reduction techniques are used afterwards. Make sure that manually assigning topics is the last step in the pipeline.Note that topic embeddings will also be created through weightedc-TF-IDF embeddings instead of centroid embeddings.\n"
     ]
    },
    {
     "name": "stdout",
     "output_type": "stream",
     "text": [
      "Testing combination 67/100: max_df=0.400, min_cluster_size=60, min_samples=30\n",
      "Testing combination 68/100: max_df=0.900, min_cluster_size=45, min_samples=15\n"
     ]
    },
    {
     "name": "stderr",
     "output_type": "stream",
     "text": [
      "2025-08-25 02:35:54,153 - BERTopic - WARNING: Using a custom list of topic assignments may lead to errors if topic reduction techniques are used afterwards. Make sure that manually assigning topics is the last step in the pipeline.Note that topic embeddings will also be created through weightedc-TF-IDF embeddings instead of centroid embeddings.\n"
     ]
    },
    {
     "name": "stdout",
     "output_type": "stream",
     "text": [
      "Testing combination 69/100: max_df=0.950, min_cluster_size=60, min_samples=20\n",
      "Testing combination 70/100: max_df=0.750, min_cluster_size=35, min_samples=25\n"
     ]
    },
    {
     "name": "stderr",
     "output_type": "stream",
     "text": [
      "2025-08-25 02:37:45,730 - BERTopic - WARNING: Using a custom list of topic assignments may lead to errors if topic reduction techniques are used afterwards. Make sure that manually assigning topics is the last step in the pipeline.Note that topic embeddings will also be created through weightedc-TF-IDF embeddings instead of centroid embeddings.\n"
     ]
    },
    {
     "name": "stdout",
     "output_type": "stream",
     "text": [
      "Testing combination 71/100: max_df=0.850, min_cluster_size=30, min_samples=35\n",
      "Testing combination 72/100: max_df=0.900, min_cluster_size=35, min_samples=20\n"
     ]
    },
    {
     "name": "stderr",
     "output_type": "stream",
     "text": [
      "2025-08-25 02:39:38,746 - BERTopic - WARNING: Using a custom list of topic assignments may lead to errors if topic reduction techniques are used afterwards. Make sure that manually assigning topics is the last step in the pipeline.Note that topic embeddings will also be created through weightedc-TF-IDF embeddings instead of centroid embeddings.\n"
     ]
    },
    {
     "name": "stdout",
     "output_type": "stream",
     "text": [
      "Testing combination 73/100: max_df=0.550, min_cluster_size=40, min_samples=35\n",
      "Testing combination 74/100: max_df=0.600, min_cluster_size=55, min_samples=30\n"
     ]
    },
    {
     "name": "stderr",
     "output_type": "stream",
     "text": [
      "2025-08-25 02:41:32,168 - BERTopic - WARNING: Using a custom list of topic assignments may lead to errors if topic reduction techniques are used afterwards. Make sure that manually assigning topics is the last step in the pipeline.Note that topic embeddings will also be created through weightedc-TF-IDF embeddings instead of centroid embeddings.\n"
     ]
    },
    {
     "name": "stdout",
     "output_type": "stream",
     "text": [
      "Testing combination 75/100: max_df=0.700, min_cluster_size=40, min_samples=30\n",
      "Testing combination 76/100: max_df=0.900, min_cluster_size=35, min_samples=35\n",
      "Testing combination 77/100: max_df=0.800, min_cluster_size=60, min_samples=25\n",
      "Testing combination 78/100: max_df=0.750, min_cluster_size=40, min_samples=30\n",
      "Testing combination 79/100: max_df=0.900, min_cluster_size=35, min_samples=25\n"
     ]
    },
    {
     "name": "stderr",
     "output_type": "stream",
     "text": [
      "2025-08-25 02:46:01,450 - BERTopic - WARNING: Using a custom list of topic assignments may lead to errors if topic reduction techniques are used afterwards. Make sure that manually assigning topics is the last step in the pipeline.Note that topic embeddings will also be created through weightedc-TF-IDF embeddings instead of centroid embeddings.\n"
     ]
    },
    {
     "name": "stdout",
     "output_type": "stream",
     "text": [
      "Testing combination 80/100: max_df=0.550, min_cluster_size=45, min_samples=20\n"
     ]
    },
    {
     "name": "stderr",
     "output_type": "stream",
     "text": [
      "2025-08-25 02:47:01,947 - BERTopic - WARNING: Using a custom list of topic assignments may lead to errors if topic reduction techniques are used afterwards. Make sure that manually assigning topics is the last step in the pipeline.Note that topic embeddings will also be created through weightedc-TF-IDF embeddings instead of centroid embeddings.\n"
     ]
    },
    {
     "name": "stdout",
     "output_type": "stream",
     "text": [
      "Testing combination 81/100: max_df=0.800, min_cluster_size=55, min_samples=35\n",
      "Testing combination 82/100: max_df=0.850, min_cluster_size=50, min_samples=35\n",
      "Testing combination 83/100: max_df=0.600, min_cluster_size=35, min_samples=15\n",
      "Testing combination 84/100: max_df=0.800, min_cluster_size=50, min_samples=15\n"
     ]
    },
    {
     "name": "stderr",
     "output_type": "stream",
     "text": [
      "2025-08-25 02:50:42,648 - BERTopic - WARNING: Using a custom list of topic assignments may lead to errors if topic reduction techniques are used afterwards. Make sure that manually assigning topics is the last step in the pipeline.Note that topic embeddings will also be created through weightedc-TF-IDF embeddings instead of centroid embeddings.\n"
     ]
    },
    {
     "name": "stdout",
     "output_type": "stream",
     "text": [
      "Testing combination 85/100: max_df=0.700, min_cluster_size=45, min_samples=30\n",
      "Testing combination 86/100: max_df=0.800, min_cluster_size=55, min_samples=30\n"
     ]
    },
    {
     "name": "stderr",
     "output_type": "stream",
     "text": [
      "2025-08-25 02:52:36,319 - BERTopic - WARNING: Using a custom list of topic assignments may lead to errors if topic reduction techniques are used afterwards. Make sure that manually assigning topics is the last step in the pipeline.Note that topic embeddings will also be created through weightedc-TF-IDF embeddings instead of centroid embeddings.\n"
     ]
    },
    {
     "name": "stdout",
     "output_type": "stream",
     "text": [
      "Testing combination 87/100: max_df=0.800, min_cluster_size=45, min_samples=25\n",
      "Testing combination 88/100: max_df=0.650, min_cluster_size=55, min_samples=20\n",
      "Testing combination 89/100: max_df=0.550, min_cluster_size=30, min_samples=25\n"
     ]
    },
    {
     "name": "stderr",
     "output_type": "stream",
     "text": [
      "2025-08-25 02:55:20,894 - BERTopic - WARNING: Using a custom list of topic assignments may lead to errors if topic reduction techniques are used afterwards. Make sure that manually assigning topics is the last step in the pipeline.Note that topic embeddings will also be created through weightedc-TF-IDF embeddings instead of centroid embeddings.\n"
     ]
    },
    {
     "name": "stdout",
     "output_type": "stream",
     "text": [
      "Testing combination 90/100: max_df=0.550, min_cluster_size=60, min_samples=15\n",
      "Testing combination 91/100: max_df=0.850, min_cluster_size=55, min_samples=35\n",
      "Testing combination 92/100: max_df=0.550, min_cluster_size=55, min_samples=30\n"
     ]
    },
    {
     "name": "stderr",
     "output_type": "stream",
     "text": [
      "2025-08-25 02:58:06,085 - BERTopic - WARNING: Using a custom list of topic assignments may lead to errors if topic reduction techniques are used afterwards. Make sure that manually assigning topics is the last step in the pipeline.Note that topic embeddings will also be created through weightedc-TF-IDF embeddings instead of centroid embeddings.\n"
     ]
    },
    {
     "name": "stdout",
     "output_type": "stream",
     "text": [
      "Testing combination 93/100: max_df=0.600, min_cluster_size=50, min_samples=20\n"
     ]
    },
    {
     "name": "stderr",
     "output_type": "stream",
     "text": [
      "2025-08-25 02:59:04,436 - BERTopic - WARNING: Using a custom list of topic assignments may lead to errors if topic reduction techniques are used afterwards. Make sure that manually assigning topics is the last step in the pipeline.Note that topic embeddings will also be created through weightedc-TF-IDF embeddings instead of centroid embeddings.\n"
     ]
    },
    {
     "name": "stdout",
     "output_type": "stream",
     "text": [
      "Testing combination 94/100: max_df=0.600, min_cluster_size=60, min_samples=25\n",
      "Testing combination 95/100: max_df=0.900, min_cluster_size=30, min_samples=20\n"
     ]
    },
    {
     "name": "stderr",
     "output_type": "stream",
     "text": [
      "2025-08-25 03:00:56,361 - BERTopic - WARNING: Using a custom list of topic assignments may lead to errors if topic reduction techniques are used afterwards. Make sure that manually assigning topics is the last step in the pipeline.Note that topic embeddings will also be created through weightedc-TF-IDF embeddings instead of centroid embeddings.\n"
     ]
    },
    {
     "name": "stdout",
     "output_type": "stream",
     "text": [
      "Testing combination 96/100: max_df=0.750, min_cluster_size=40, min_samples=15\n"
     ]
    },
    {
     "name": "stderr",
     "output_type": "stream",
     "text": [
      "2025-08-25 03:01:58,135 - BERTopic - WARNING: Using a custom list of topic assignments may lead to errors if topic reduction techniques are used afterwards. Make sure that manually assigning topics is the last step in the pipeline.Note that topic embeddings will also be created through weightedc-TF-IDF embeddings instead of centroid embeddings.\n"
     ]
    },
    {
     "name": "stdout",
     "output_type": "stream",
     "text": [
      "Testing combination 97/100: max_df=0.550, min_cluster_size=60, min_samples=20\n",
      "Testing combination 98/100: max_df=0.650, min_cluster_size=60, min_samples=35\n",
      "Testing combination 99/100: max_df=0.950, min_cluster_size=50, min_samples=35\n",
      "Testing combination 100/100: max_df=0.800, min_cluster_size=30, min_samples=15\n"
     ]
    },
    {
     "name": "stderr",
     "output_type": "stream",
     "text": [
      "2025-08-25 03:05:36,578 - BERTopic - WARNING: Using a custom list of topic assignments may lead to errors if topic reduction techniques are used afterwards. Make sure that manually assigning topics is the last step in the pipeline.Note that topic embeddings will also be created through weightedc-TF-IDF embeddings instead of centroid embeddings.\n"
     ]
    },
    {
     "name": "stdout",
     "output_type": "stream",
     "text": [
      "\n",
      "Top 5 Parameter Combinations:\n",
      "\n",
      "Rank 1:\n",
      "max_df: 0.950, min_cluster_size: 30, min_samples: 15\n",
      "Coherence: 0.3936, Diversity: 0.8000, Silhouette: -0.0882\n",
      "Combined Score: 0.3685\n",
      "\n",
      "Rank 2:\n",
      "max_df: 0.800, min_cluster_size: 30, min_samples: 15\n",
      "Coherence: 0.3936, Diversity: 0.8000, Silhouette: -0.0882\n",
      "Combined Score: 0.3685\n",
      "\n",
      "Rank 3:\n",
      "max_df: 0.550, min_cluster_size: 30, min_samples: 25\n",
      "Coherence: 0.4119, Diversity: 0.7600, Silhouette: -0.0877\n",
      "Combined Score: 0.3614\n",
      "\n",
      "Rank 4:\n",
      "max_df: 0.400, min_cluster_size: 30, min_samples: 25\n",
      "Coherence: 0.3995, Diversity: 0.7700, Silhouette: -0.0877\n",
      "Combined Score: 0.3606\n",
      "\n",
      "Rank 5:\n",
      "max_df: 0.450, min_cluster_size: 30, min_samples: 30\n",
      "Coherence: 0.4060, Diversity: 0.7188, Silhouette: -0.0471\n",
      "Combined Score: 0.3592\n",
      "\n",
      "Grid search results saved to: e:\\Studying in Adelaide\\2_Trimester-2\\project_A_ML-Mental Health (MDS)\\LLM_NetworkMoel_MentalHealth_coding\\topic_modeling_results_ptsd_and_trauma.csv\n",
      "\n",
      "\n",
      "=== Processing category: Suicidal thoughts and self-harm ===\n",
      "\n"
     ]
    },
    {
     "name": "stderr",
     "output_type": "stream",
     "text": [
      "Some weights of BertModel were not initialized from the model checkpoint at mental/mental-bert-base-uncased and are newly initialized: ['pooler.dense.bias', 'pooler.dense.weight']\n",
      "You should probably TRAIN this model on a down-stream task to be able to use it for predictions and inference.\n"
     ]
    },
    {
     "name": "stdout",
     "output_type": "stream",
     "text": [
      "Testing combination 1/100: max_df=0.450, min_cluster_size=30, min_samples=20\n"
     ]
    },
    {
     "name": "stderr",
     "output_type": "stream",
     "text": [
      "2025-08-25 03:06:33,778 - BERTopic - WARNING: Using a custom list of topic assignments may lead to errors if topic reduction techniques are used afterwards. Make sure that manually assigning topics is the last step in the pipeline.Note that topic embeddings will also be created through weightedc-TF-IDF embeddings instead of centroid embeddings.\n"
     ]
    },
    {
     "name": "stdout",
     "output_type": "stream",
     "text": [
      "Testing combination 2/100: max_df=0.750, min_cluster_size=40, min_samples=30\n"
     ]
    },
    {
     "name": "stderr",
     "output_type": "stream",
     "text": [
      "2025-08-25 03:07:21,027 - BERTopic - WARNING: Using a custom list of topic assignments may lead to errors if topic reduction techniques are used afterwards. Make sure that manually assigning topics is the last step in the pipeline.Note that topic embeddings will also be created through weightedc-TF-IDF embeddings instead of centroid embeddings.\n"
     ]
    },
    {
     "name": "stdout",
     "output_type": "stream",
     "text": [
      "Testing combination 3/100: max_df=0.800, min_cluster_size=45, min_samples=25\n"
     ]
    },
    {
     "name": "stderr",
     "output_type": "stream",
     "text": [
      "2025-08-25 03:08:08,666 - BERTopic - WARNING: Using a custom list of topic assignments may lead to errors if topic reduction techniques are used afterwards. Make sure that manually assigning topics is the last step in the pipeline.Note that topic embeddings will also be created through weightedc-TF-IDF embeddings instead of centroid embeddings.\n"
     ]
    },
    {
     "name": "stdout",
     "output_type": "stream",
     "text": [
      "Testing combination 4/100: max_df=0.900, min_cluster_size=60, min_samples=20\n"
     ]
    },
    {
     "name": "stderr",
     "output_type": "stream",
     "text": [
      "2025-08-25 03:08:55,923 - BERTopic - WARNING: Using a custom list of topic assignments may lead to errors if topic reduction techniques are used afterwards. Make sure that manually assigning topics is the last step in the pipeline.Note that topic embeddings will also be created through weightedc-TF-IDF embeddings instead of centroid embeddings.\n"
     ]
    },
    {
     "name": "stdout",
     "output_type": "stream",
     "text": [
      "Testing combination 5/100: max_df=0.400, min_cluster_size=30, min_samples=35\n"
     ]
    },
    {
     "name": "stderr",
     "output_type": "stream",
     "text": [
      "2025-08-25 03:09:43,648 - BERTopic - WARNING: Using a custom list of topic assignments may lead to errors if topic reduction techniques are used afterwards. Make sure that manually assigning topics is the last step in the pipeline.Note that topic embeddings will also be created through weightedc-TF-IDF embeddings instead of centroid embeddings.\n"
     ]
    },
    {
     "name": "stdout",
     "output_type": "stream",
     "text": [
      "Testing combination 6/100: max_df=0.450, min_cluster_size=35, min_samples=30\n"
     ]
    },
    {
     "name": "stderr",
     "output_type": "stream",
     "text": [
      "2025-08-25 03:10:32,042 - BERTopic - WARNING: Using a custom list of topic assignments may lead to errors if topic reduction techniques are used afterwards. Make sure that manually assigning topics is the last step in the pipeline.Note that topic embeddings will also be created through weightedc-TF-IDF embeddings instead of centroid embeddings.\n"
     ]
    },
    {
     "name": "stdout",
     "output_type": "stream",
     "text": [
      "Testing combination 7/100: max_df=0.850, min_cluster_size=50, min_samples=35\n",
      "Testing combination 8/100: max_df=0.800, min_cluster_size=60, min_samples=15\n"
     ]
    },
    {
     "name": "stderr",
     "output_type": "stream",
     "text": [
      "2025-08-25 03:12:03,217 - BERTopic - WARNING: Using a custom list of topic assignments may lead to errors if topic reduction techniques are used afterwards. Make sure that manually assigning topics is the last step in the pipeline.Note that topic embeddings will also be created through weightedc-TF-IDF embeddings instead of centroid embeddings.\n"
     ]
    },
    {
     "name": "stdout",
     "output_type": "stream",
     "text": [
      "Testing combination 9/100: max_df=0.950, min_cluster_size=40, min_samples=25\n",
      "Testing combination 10/100: max_df=0.600, min_cluster_size=50, min_samples=20\n"
     ]
    },
    {
     "name": "stderr",
     "output_type": "stream",
     "text": [
      "2025-08-25 03:13:36,697 - BERTopic - WARNING: Using a custom list of topic assignments may lead to errors if topic reduction techniques are used afterwards. Make sure that manually assigning topics is the last step in the pipeline.Note that topic embeddings will also be created through weightedc-TF-IDF embeddings instead of centroid embeddings.\n"
     ]
    },
    {
     "name": "stdout",
     "output_type": "stream",
     "text": [
      "Testing combination 11/100: max_df=0.800, min_cluster_size=50, min_samples=30\n"
     ]
    },
    {
     "name": "stderr",
     "output_type": "stream",
     "text": [
      "2025-08-25 03:14:24,864 - BERTopic - WARNING: Using a custom list of topic assignments may lead to errors if topic reduction techniques are used afterwards. Make sure that manually assigning topics is the last step in the pipeline.Note that topic embeddings will also be created through weightedc-TF-IDF embeddings instead of centroid embeddings.\n"
     ]
    },
    {
     "name": "stdout",
     "output_type": "stream",
     "text": [
      "Testing combination 12/100: max_df=0.900, min_cluster_size=55, min_samples=35\n",
      "Testing combination 13/100: max_df=0.550, min_cluster_size=45, min_samples=35\n",
      "Testing combination 14/100: max_df=0.900, min_cluster_size=50, min_samples=30\n"
     ]
    },
    {
     "name": "stderr",
     "output_type": "stream",
     "text": [
      "2025-08-25 03:16:43,778 - BERTopic - WARNING: Using a custom list of topic assignments may lead to errors if topic reduction techniques are used afterwards. Make sure that manually assigning topics is the last step in the pipeline.Note that topic embeddings will also be created through weightedc-TF-IDF embeddings instead of centroid embeddings.\n"
     ]
    },
    {
     "name": "stdout",
     "output_type": "stream",
     "text": [
      "Testing combination 15/100: max_df=0.950, min_cluster_size=55, min_samples=20\n"
     ]
    },
    {
     "name": "stderr",
     "output_type": "stream",
     "text": [
      "2025-08-25 03:17:32,172 - BERTopic - WARNING: Using a custom list of topic assignments may lead to errors if topic reduction techniques are used afterwards. Make sure that manually assigning topics is the last step in the pipeline.Note that topic embeddings will also be created through weightedc-TF-IDF embeddings instead of centroid embeddings.\n"
     ]
    },
    {
     "name": "stdout",
     "output_type": "stream",
     "text": [
      "Testing combination 16/100: max_df=0.450, min_cluster_size=60, min_samples=30\n",
      "Testing combination 17/100: max_df=0.800, min_cluster_size=45, min_samples=35\n",
      "Testing combination 18/100: max_df=0.950, min_cluster_size=40, min_samples=30\n"
     ]
    },
    {
     "name": "stderr",
     "output_type": "stream",
     "text": [
      "2025-08-25 03:19:49,857 - BERTopic - WARNING: Using a custom list of topic assignments may lead to errors if topic reduction techniques are used afterwards. Make sure that manually assigning topics is the last step in the pipeline.Note that topic embeddings will also be created through weightedc-TF-IDF embeddings instead of centroid embeddings.\n"
     ]
    },
    {
     "name": "stdout",
     "output_type": "stream",
     "text": [
      "Testing combination 19/100: max_df=0.750, min_cluster_size=40, min_samples=25\n",
      "Testing combination 20/100: max_df=0.500, min_cluster_size=35, min_samples=30\n"
     ]
    },
    {
     "name": "stderr",
     "output_type": "stream",
     "text": [
      "2025-08-25 03:21:23,236 - BERTopic - WARNING: Using a custom list of topic assignments may lead to errors if topic reduction techniques are used afterwards. Make sure that manually assigning topics is the last step in the pipeline.Note that topic embeddings will also be created through weightedc-TF-IDF embeddings instead of centroid embeddings.\n"
     ]
    },
    {
     "name": "stdout",
     "output_type": "stream",
     "text": [
      "Testing combination 21/100: max_df=0.950, min_cluster_size=40, min_samples=15\n"
     ]
    },
    {
     "name": "stderr",
     "output_type": "stream",
     "text": [
      "2025-08-25 03:22:10,254 - BERTopic - WARNING: Using a custom list of topic assignments may lead to errors if topic reduction techniques are used afterwards. Make sure that manually assigning topics is the last step in the pipeline.Note that topic embeddings will also be created through weightedc-TF-IDF embeddings instead of centroid embeddings.\n"
     ]
    },
    {
     "name": "stdout",
     "output_type": "stream",
     "text": [
      "Testing combination 22/100: max_df=0.900, min_cluster_size=45, min_samples=35\n",
      "Testing combination 23/100: max_df=0.850, min_cluster_size=45, min_samples=30\n",
      "Testing combination 24/100: max_df=0.600, min_cluster_size=30, min_samples=20\n"
     ]
    },
    {
     "name": "stderr",
     "output_type": "stream",
     "text": [
      "2025-08-25 03:24:28,684 - BERTopic - WARNING: Using a custom list of topic assignments may lead to errors if topic reduction techniques are used afterwards. Make sure that manually assigning topics is the last step in the pipeline.Note that topic embeddings will also be created through weightedc-TF-IDF embeddings instead of centroid embeddings.\n"
     ]
    },
    {
     "name": "stdout",
     "output_type": "stream",
     "text": [
      "Testing combination 25/100: max_df=0.400, min_cluster_size=50, min_samples=35\n",
      "Testing combination 26/100: max_df=0.950, min_cluster_size=35, min_samples=15\n"
     ]
    },
    {
     "name": "stderr",
     "output_type": "stream",
     "text": [
      "2025-08-25 03:26:01,939 - BERTopic - WARNING: Using a custom list of topic assignments may lead to errors if topic reduction techniques are used afterwards. Make sure that manually assigning topics is the last step in the pipeline.Note that topic embeddings will also be created through weightedc-TF-IDF embeddings instead of centroid embeddings.\n"
     ]
    },
    {
     "name": "stdout",
     "output_type": "stream",
     "text": [
      "Testing combination 27/100: max_df=0.700, min_cluster_size=35, min_samples=20\n"
     ]
    },
    {
     "name": "stderr",
     "output_type": "stream",
     "text": [
      "2025-08-25 03:26:50,925 - BERTopic - WARNING: Using a custom list of topic assignments may lead to errors if topic reduction techniques are used afterwards. Make sure that manually assigning topics is the last step in the pipeline.Note that topic embeddings will also be created through weightedc-TF-IDF embeddings instead of centroid embeddings.\n"
     ]
    },
    {
     "name": "stdout",
     "output_type": "stream",
     "text": [
      "Testing combination 28/100: max_df=0.650, min_cluster_size=55, min_samples=25\n"
     ]
    },
    {
     "name": "stderr",
     "output_type": "stream",
     "text": [
      "2025-08-25 03:27:38,421 - BERTopic - WARNING: Using a custom list of topic assignments may lead to errors if topic reduction techniques are used afterwards. Make sure that manually assigning topics is the last step in the pipeline.Note that topic embeddings will also be created through weightedc-TF-IDF embeddings instead of centroid embeddings.\n"
     ]
    },
    {
     "name": "stdout",
     "output_type": "stream",
     "text": [
      "Testing combination 29/100: max_df=0.550, min_cluster_size=30, min_samples=35\n"
     ]
    },
    {
     "name": "stderr",
     "output_type": "stream",
     "text": [
      "2025-08-25 03:28:25,776 - BERTopic - WARNING: Using a custom list of topic assignments may lead to errors if topic reduction techniques are used afterwards. Make sure that manually assigning topics is the last step in the pipeline.Note that topic embeddings will also be created through weightedc-TF-IDF embeddings instead of centroid embeddings.\n"
     ]
    },
    {
     "name": "stdout",
     "output_type": "stream",
     "text": [
      "Testing combination 30/100: max_df=0.550, min_cluster_size=30, min_samples=20\n"
     ]
    },
    {
     "name": "stderr",
     "output_type": "stream",
     "text": [
      "2025-08-25 03:29:13,454 - BERTopic - WARNING: Using a custom list of topic assignments may lead to errors if topic reduction techniques are used afterwards. Make sure that manually assigning topics is the last step in the pipeline.Note that topic embeddings will also be created through weightedc-TF-IDF embeddings instead of centroid embeddings.\n"
     ]
    },
    {
     "name": "stdout",
     "output_type": "stream",
     "text": [
      "Testing combination 31/100: max_df=0.800, min_cluster_size=35, min_samples=25\n",
      "Testing combination 32/100: max_df=0.500, min_cluster_size=40, min_samples=20\n"
     ]
    },
    {
     "name": "stderr",
     "output_type": "stream",
     "text": [
      "2025-08-25 03:30:48,541 - BERTopic - WARNING: Using a custom list of topic assignments may lead to errors if topic reduction techniques are used afterwards. Make sure that manually assigning topics is the last step in the pipeline.Note that topic embeddings will also be created through weightedc-TF-IDF embeddings instead of centroid embeddings.\n"
     ]
    },
    {
     "name": "stdout",
     "output_type": "stream",
     "text": [
      "Testing combination 33/100: max_df=0.550, min_cluster_size=30, min_samples=15\n",
      "Testing combination 34/100: max_df=0.850, min_cluster_size=35, min_samples=30\n"
     ]
    },
    {
     "name": "stderr",
     "output_type": "stream",
     "text": [
      "2025-08-25 03:32:21,901 - BERTopic - WARNING: Using a custom list of topic assignments may lead to errors if topic reduction techniques are used afterwards. Make sure that manually assigning topics is the last step in the pipeline.Note that topic embeddings will also be created through weightedc-TF-IDF embeddings instead of centroid embeddings.\n"
     ]
    },
    {
     "name": "stdout",
     "output_type": "stream",
     "text": [
      "Testing combination 35/100: max_df=0.500, min_cluster_size=35, min_samples=25\n",
      "Testing combination 36/100: max_df=0.600, min_cluster_size=40, min_samples=35\n",
      "Testing combination 37/100: max_df=0.650, min_cluster_size=30, min_samples=35\n"
     ]
    },
    {
     "name": "stderr",
     "output_type": "stream",
     "text": [
      "2025-08-25 03:34:39,413 - BERTopic - WARNING: Using a custom list of topic assignments may lead to errors if topic reduction techniques are used afterwards. Make sure that manually assigning topics is the last step in the pipeline.Note that topic embeddings will also be created through weightedc-TF-IDF embeddings instead of centroid embeddings.\n"
     ]
    },
    {
     "name": "stdout",
     "output_type": "stream",
     "text": [
      "Testing combination 38/100: max_df=0.800, min_cluster_size=60, min_samples=25\n"
     ]
    },
    {
     "name": "stderr",
     "output_type": "stream",
     "text": [
      "2025-08-25 03:35:27,068 - BERTopic - WARNING: Using a custom list of topic assignments may lead to errors if topic reduction techniques are used afterwards. Make sure that manually assigning topics is the last step in the pipeline.Note that topic embeddings will also be created through weightedc-TF-IDF embeddings instead of centroid embeddings.\n"
     ]
    },
    {
     "name": "stdout",
     "output_type": "stream",
     "text": [
      "Testing combination 39/100: max_df=0.650, min_cluster_size=45, min_samples=35\n",
      "Testing combination 40/100: max_df=0.800, min_cluster_size=35, min_samples=15\n"
     ]
    },
    {
     "name": "stderr",
     "output_type": "stream",
     "text": [
      "2025-08-25 03:36:59,933 - BERTopic - WARNING: Using a custom list of topic assignments may lead to errors if topic reduction techniques are used afterwards. Make sure that manually assigning topics is the last step in the pipeline.Note that topic embeddings will also be created through weightedc-TF-IDF embeddings instead of centroid embeddings.\n"
     ]
    },
    {
     "name": "stdout",
     "output_type": "stream",
     "text": [
      "Testing combination 41/100: max_df=0.500, min_cluster_size=30, min_samples=15\n",
      "Testing combination 42/100: max_df=0.900, min_cluster_size=60, min_samples=30\n",
      "Testing combination 43/100: max_df=0.600, min_cluster_size=60, min_samples=30\n",
      "Testing combination 44/100: max_df=0.450, min_cluster_size=40, min_samples=35\n",
      "Testing combination 45/100: max_df=0.550, min_cluster_size=40, min_samples=15\n"
     ]
    },
    {
     "name": "stderr",
     "output_type": "stream",
     "text": [
      "2025-08-25 03:40:46,242 - BERTopic - WARNING: Using a custom list of topic assignments may lead to errors if topic reduction techniques are used afterwards. Make sure that manually assigning topics is the last step in the pipeline.Note that topic embeddings will also be created through weightedc-TF-IDF embeddings instead of centroid embeddings.\n"
     ]
    },
    {
     "name": "stdout",
     "output_type": "stream",
     "text": [
      "Testing combination 46/100: max_df=0.750, min_cluster_size=50, min_samples=20\n"
     ]
    },
    {
     "name": "stderr",
     "output_type": "stream",
     "text": [
      "2025-08-25 03:41:33,985 - BERTopic - WARNING: Using a custom list of topic assignments may lead to errors if topic reduction techniques are used afterwards. Make sure that manually assigning topics is the last step in the pipeline.Note that topic embeddings will also be created through weightedc-TF-IDF embeddings instead of centroid embeddings.\n"
     ]
    },
    {
     "name": "stdout",
     "output_type": "stream",
     "text": [
      "Testing combination 47/100: max_df=0.650, min_cluster_size=40, min_samples=20\n"
     ]
    },
    {
     "name": "stderr",
     "output_type": "stream",
     "text": [
      "2025-08-25 03:42:21,600 - BERTopic - WARNING: Using a custom list of topic assignments may lead to errors if topic reduction techniques are used afterwards. Make sure that manually assigning topics is the last step in the pipeline.Note that topic embeddings will also be created through weightedc-TF-IDF embeddings instead of centroid embeddings.\n"
     ]
    },
    {
     "name": "stdout",
     "output_type": "stream",
     "text": [
      "Testing combination 48/100: max_df=0.450, min_cluster_size=50, min_samples=15\n"
     ]
    },
    {
     "name": "stderr",
     "output_type": "stream",
     "text": [
      "2025-08-25 03:43:08,865 - BERTopic - WARNING: Using a custom list of topic assignments may lead to errors if topic reduction techniques are used afterwards. Make sure that manually assigning topics is the last step in the pipeline.Note that topic embeddings will also be created through weightedc-TF-IDF embeddings instead of centroid embeddings.\n"
     ]
    },
    {
     "name": "stdout",
     "output_type": "stream",
     "text": [
      "Testing combination 49/100: max_df=0.400, min_cluster_size=60, min_samples=30\n",
      "Testing combination 50/100: max_df=0.850, min_cluster_size=55, min_samples=20\n"
     ]
    },
    {
     "name": "stderr",
     "output_type": "stream",
     "text": [
      "2025-08-25 03:44:40,553 - BERTopic - WARNING: Using a custom list of topic assignments may lead to errors if topic reduction techniques are used afterwards. Make sure that manually assigning topics is the last step in the pipeline.Note that topic embeddings will also be created through weightedc-TF-IDF embeddings instead of centroid embeddings.\n"
     ]
    },
    {
     "name": "stdout",
     "output_type": "stream",
     "text": [
      "Testing combination 51/100: max_df=0.550, min_cluster_size=35, min_samples=20\n"
     ]
    },
    {
     "name": "stderr",
     "output_type": "stream",
     "text": [
      "2025-08-25 03:45:28,084 - BERTopic - WARNING: Using a custom list of topic assignments may lead to errors if topic reduction techniques are used afterwards. Make sure that manually assigning topics is the last step in the pipeline.Note that topic embeddings will also be created through weightedc-TF-IDF embeddings instead of centroid embeddings.\n"
     ]
    },
    {
     "name": "stdout",
     "output_type": "stream",
     "text": [
      "Testing combination 52/100: max_df=0.450, min_cluster_size=30, min_samples=15\n",
      "Testing combination 53/100: max_df=0.600, min_cluster_size=45, min_samples=25\n"
     ]
    },
    {
     "name": "stderr",
     "output_type": "stream",
     "text": [
      "2025-08-25 03:47:01,926 - BERTopic - WARNING: Using a custom list of topic assignments may lead to errors if topic reduction techniques are used afterwards. Make sure that manually assigning topics is the last step in the pipeline.Note that topic embeddings will also be created through weightedc-TF-IDF embeddings instead of centroid embeddings.\n"
     ]
    },
    {
     "name": "stdout",
     "output_type": "stream",
     "text": [
      "Testing combination 54/100: max_df=0.900, min_cluster_size=30, min_samples=30\n"
     ]
    },
    {
     "name": "stderr",
     "output_type": "stream",
     "text": [
      "2025-08-25 03:47:49,141 - BERTopic - WARNING: Using a custom list of topic assignments may lead to errors if topic reduction techniques are used afterwards. Make sure that manually assigning topics is the last step in the pipeline.Note that topic embeddings will also be created through weightedc-TF-IDF embeddings instead of centroid embeddings.\n"
     ]
    },
    {
     "name": "stdout",
     "output_type": "stream",
     "text": [
      "Testing combination 55/100: max_df=0.950, min_cluster_size=30, min_samples=20\n"
     ]
    },
    {
     "name": "stderr",
     "output_type": "stream",
     "text": [
      "2025-08-25 03:48:36,194 - BERTopic - WARNING: Using a custom list of topic assignments may lead to errors if topic reduction techniques are used afterwards. Make sure that manually assigning topics is the last step in the pipeline.Note that topic embeddings will also be created through weightedc-TF-IDF embeddings instead of centroid embeddings.\n"
     ]
    },
    {
     "name": "stdout",
     "output_type": "stream",
     "text": [
      "Testing combination 56/100: max_df=0.850, min_cluster_size=40, min_samples=35\n",
      "Testing combination 57/100: max_df=0.700, min_cluster_size=60, min_samples=30\n",
      "Testing combination 58/100: max_df=0.450, min_cluster_size=40, min_samples=30\n"
     ]
    },
    {
     "name": "stderr",
     "output_type": "stream",
     "text": [
      "2025-08-25 03:50:52,812 - BERTopic - WARNING: Using a custom list of topic assignments may lead to errors if topic reduction techniques are used afterwards. Make sure that manually assigning topics is the last step in the pipeline.Note that topic embeddings will also be created through weightedc-TF-IDF embeddings instead of centroid embeddings.\n"
     ]
    },
    {
     "name": "stdout",
     "output_type": "stream",
     "text": [
      "Testing combination 59/100: max_df=0.550, min_cluster_size=45, min_samples=30\n",
      "Testing combination 60/100: max_df=0.950, min_cluster_size=55, min_samples=35\n",
      "Testing combination 61/100: max_df=0.900, min_cluster_size=40, min_samples=20\n"
     ]
    },
    {
     "name": "stderr",
     "output_type": "stream",
     "text": [
      "2025-08-25 03:53:10,705 - BERTopic - WARNING: Using a custom list of topic assignments may lead to errors if topic reduction techniques are used afterwards. Make sure that manually assigning topics is the last step in the pipeline.Note that topic embeddings will also be created through weightedc-TF-IDF embeddings instead of centroid embeddings.\n"
     ]
    },
    {
     "name": "stdout",
     "output_type": "stream",
     "text": [
      "Testing combination 62/100: max_df=0.400, min_cluster_size=55, min_samples=35\n",
      "Testing combination 63/100: max_df=0.850, min_cluster_size=30, min_samples=15\n",
      "Testing combination 64/100: max_df=0.950, min_cluster_size=40, min_samples=35\n",
      "Testing combination 65/100: max_df=0.850, min_cluster_size=35, min_samples=15\n"
     ]
    },
    {
     "name": "stderr",
     "output_type": "stream",
     "text": [
      "2025-08-25 03:56:15,114 - BERTopic - WARNING: Using a custom list of topic assignments may lead to errors if topic reduction techniques are used afterwards. Make sure that manually assigning topics is the last step in the pipeline.Note that topic embeddings will also be created through weightedc-TF-IDF embeddings instead of centroid embeddings.\n"
     ]
    },
    {
     "name": "stdout",
     "output_type": "stream",
     "text": [
      "Testing combination 66/100: max_df=0.850, min_cluster_size=40, min_samples=25\n",
      "Testing combination 67/100: max_df=0.550, min_cluster_size=40, min_samples=20\n"
     ]
    },
    {
     "name": "stderr",
     "output_type": "stream",
     "text": [
      "2025-08-25 03:57:49,466 - BERTopic - WARNING: Using a custom list of topic assignments may lead to errors if topic reduction techniques are used afterwards. Make sure that manually assigning topics is the last step in the pipeline.Note that topic embeddings will also be created through weightedc-TF-IDF embeddings instead of centroid embeddings.\n"
     ]
    },
    {
     "name": "stdout",
     "output_type": "stream",
     "text": [
      "Testing combination 68/100: max_df=0.600, min_cluster_size=60, min_samples=20\n"
     ]
    },
    {
     "name": "stderr",
     "output_type": "stream",
     "text": [
      "2025-08-25 03:58:36,995 - BERTopic - WARNING: Using a custom list of topic assignments may lead to errors if topic reduction techniques are used afterwards. Make sure that manually assigning topics is the last step in the pipeline.Note that topic embeddings will also be created through weightedc-TF-IDF embeddings instead of centroid embeddings.\n"
     ]
    },
    {
     "name": "stdout",
     "output_type": "stream",
     "text": [
      "Testing combination 69/100: max_df=0.700, min_cluster_size=30, min_samples=15\n",
      "Testing combination 70/100: max_df=0.650, min_cluster_size=55, min_samples=35\n",
      "Testing combination 71/100: max_df=0.500, min_cluster_size=60, min_samples=20\n"
     ]
    },
    {
     "name": "stderr",
     "output_type": "stream",
     "text": [
      "2025-08-25 04:00:55,481 - BERTopic - WARNING: Using a custom list of topic assignments may lead to errors if topic reduction techniques are used afterwards. Make sure that manually assigning topics is the last step in the pipeline.Note that topic embeddings will also be created through weightedc-TF-IDF embeddings instead of centroid embeddings.\n"
     ]
    },
    {
     "name": "stdout",
     "output_type": "stream",
     "text": [
      "Testing combination 72/100: max_df=0.450, min_cluster_size=30, min_samples=30\n"
     ]
    },
    {
     "name": "stderr",
     "output_type": "stream",
     "text": [
      "2025-08-25 04:01:42,145 - BERTopic - WARNING: Using a custom list of topic assignments may lead to errors if topic reduction techniques are used afterwards. Make sure that manually assigning topics is the last step in the pipeline.Note that topic embeddings will also be created through weightedc-TF-IDF embeddings instead of centroid embeddings.\n"
     ]
    },
    {
     "name": "stdout",
     "output_type": "stream",
     "text": [
      "Testing combination 73/100: max_df=0.800, min_cluster_size=30, min_samples=25\n",
      "Testing combination 74/100: max_df=0.500, min_cluster_size=60, min_samples=25\n"
     ]
    },
    {
     "name": "stderr",
     "output_type": "stream",
     "text": [
      "2025-08-25 04:03:17,586 - BERTopic - WARNING: Using a custom list of topic assignments may lead to errors if topic reduction techniques are used afterwards. Make sure that manually assigning topics is the last step in the pipeline.Note that topic embeddings will also be created through weightedc-TF-IDF embeddings instead of centroid embeddings.\n"
     ]
    },
    {
     "name": "stdout",
     "output_type": "stream",
     "text": [
      "Testing combination 75/100: max_df=0.800, min_cluster_size=55, min_samples=20\n"
     ]
    },
    {
     "name": "stderr",
     "output_type": "stream",
     "text": [
      "2025-08-25 04:04:04,181 - BERTopic - WARNING: Using a custom list of topic assignments may lead to errors if topic reduction techniques are used afterwards. Make sure that manually assigning topics is the last step in the pipeline.Note that topic embeddings will also be created through weightedc-TF-IDF embeddings instead of centroid embeddings.\n"
     ]
    },
    {
     "name": "stdout",
     "output_type": "stream",
     "text": [
      "Testing combination 76/100: max_df=0.900, min_cluster_size=50, min_samples=20\n"
     ]
    },
    {
     "name": "stderr",
     "output_type": "stream",
     "text": [
      "2025-08-25 04:04:52,215 - BERTopic - WARNING: Using a custom list of topic assignments may lead to errors if topic reduction techniques are used afterwards. Make sure that manually assigning topics is the last step in the pipeline.Note that topic embeddings will also be created through weightedc-TF-IDF embeddings instead of centroid embeddings.\n"
     ]
    },
    {
     "name": "stdout",
     "output_type": "stream",
     "text": [
      "Testing combination 77/100: max_df=0.750, min_cluster_size=45, min_samples=35\n",
      "Testing combination 78/100: max_df=0.700, min_cluster_size=35, min_samples=35\n"
     ]
    },
    {
     "name": "stderr",
     "output_type": "stream",
     "text": [
      "2025-08-25 04:06:25,567 - BERTopic - WARNING: Using a custom list of topic assignments may lead to errors if topic reduction techniques are used afterwards. Make sure that manually assigning topics is the last step in the pipeline.Note that topic embeddings will also be created through weightedc-TF-IDF embeddings instead of centroid embeddings.\n"
     ]
    },
    {
     "name": "stdout",
     "output_type": "stream",
     "text": [
      "Testing combination 79/100: max_df=0.550, min_cluster_size=60, min_samples=20\n"
     ]
    },
    {
     "name": "stderr",
     "output_type": "stream",
     "text": [
      "2025-08-25 04:07:13,976 - BERTopic - WARNING: Using a custom list of topic assignments may lead to errors if topic reduction techniques are used afterwards. Make sure that manually assigning topics is the last step in the pipeline.Note that topic embeddings will also be created through weightedc-TF-IDF embeddings instead of centroid embeddings.\n"
     ]
    },
    {
     "name": "stdout",
     "output_type": "stream",
     "text": [
      "Testing combination 80/100: max_df=0.850, min_cluster_size=45, min_samples=15\n"
     ]
    },
    {
     "name": "stderr",
     "output_type": "stream",
     "text": [
      "2025-08-25 04:08:01,083 - BERTopic - WARNING: Using a custom list of topic assignments may lead to errors if topic reduction techniques are used afterwards. Make sure that manually assigning topics is the last step in the pipeline.Note that topic embeddings will also be created through weightedc-TF-IDF embeddings instead of centroid embeddings.\n"
     ]
    },
    {
     "name": "stdout",
     "output_type": "stream",
     "text": [
      "Testing combination 81/100: max_df=0.750, min_cluster_size=35, min_samples=20\n"
     ]
    },
    {
     "name": "stderr",
     "output_type": "stream",
     "text": [
      "2025-08-25 04:08:48,204 - BERTopic - WARNING: Using a custom list of topic assignments may lead to errors if topic reduction techniques are used afterwards. Make sure that manually assigning topics is the last step in the pipeline.Note that topic embeddings will also be created through weightedc-TF-IDF embeddings instead of centroid embeddings.\n"
     ]
    },
    {
     "name": "stdout",
     "output_type": "stream",
     "text": [
      "Testing combination 82/100: max_df=0.800, min_cluster_size=50, min_samples=35\n",
      "Testing combination 83/100: max_df=0.450, min_cluster_size=35, min_samples=15\n"
     ]
    },
    {
     "name": "stderr",
     "output_type": "stream",
     "text": [
      "2025-08-25 04:10:21,975 - BERTopic - WARNING: Using a custom list of topic assignments may lead to errors if topic reduction techniques are used afterwards. Make sure that manually assigning topics is the last step in the pipeline.Note that topic embeddings will also be created through weightedc-TF-IDF embeddings instead of centroid embeddings.\n"
     ]
    },
    {
     "name": "stdout",
     "output_type": "stream",
     "text": [
      "Testing combination 84/100: max_df=0.550, min_cluster_size=40, min_samples=25\n",
      "Testing combination 85/100: max_df=0.400, min_cluster_size=35, min_samples=15\n"
     ]
    },
    {
     "name": "stderr",
     "output_type": "stream",
     "text": [
      "2025-08-25 04:11:57,119 - BERTopic - WARNING: Using a custom list of topic assignments may lead to errors if topic reduction techniques are used afterwards. Make sure that manually assigning topics is the last step in the pipeline.Note that topic embeddings will also be created through weightedc-TF-IDF embeddings instead of centroid embeddings.\n"
     ]
    },
    {
     "name": "stdout",
     "output_type": "stream",
     "text": [
      "Testing combination 86/100: max_df=0.400, min_cluster_size=30, min_samples=25\n",
      "Testing combination 87/100: max_df=0.550, min_cluster_size=55, min_samples=25\n"
     ]
    },
    {
     "name": "stderr",
     "output_type": "stream",
     "text": [
      "2025-08-25 04:13:34,213 - BERTopic - WARNING: Using a custom list of topic assignments may lead to errors if topic reduction techniques are used afterwards. Make sure that manually assigning topics is the last step in the pipeline.Note that topic embeddings will also be created through weightedc-TF-IDF embeddings instead of centroid embeddings.\n"
     ]
    },
    {
     "name": "stdout",
     "output_type": "stream",
     "text": [
      "Testing combination 88/100: max_df=0.800, min_cluster_size=50, min_samples=20\n"
     ]
    },
    {
     "name": "stderr",
     "output_type": "stream",
     "text": [
      "2025-08-25 04:14:20,552 - BERTopic - WARNING: Using a custom list of topic assignments may lead to errors if topic reduction techniques are used afterwards. Make sure that manually assigning topics is the last step in the pipeline.Note that topic embeddings will also be created through weightedc-TF-IDF embeddings instead of centroid embeddings.\n"
     ]
    },
    {
     "name": "stdout",
     "output_type": "stream",
     "text": [
      "Testing combination 89/100: max_df=0.450, min_cluster_size=35, min_samples=25\n",
      "Testing combination 90/100: max_df=0.400, min_cluster_size=35, min_samples=20\n"
     ]
    },
    {
     "name": "stderr",
     "output_type": "stream",
     "text": [
      "2025-08-25 04:15:53,916 - BERTopic - WARNING: Using a custom list of topic assignments may lead to errors if topic reduction techniques are used afterwards. Make sure that manually assigning topics is the last step in the pipeline.Note that topic embeddings will also be created through weightedc-TF-IDF embeddings instead of centroid embeddings.\n"
     ]
    },
    {
     "name": "stdout",
     "output_type": "stream",
     "text": [
      "Testing combination 91/100: max_df=0.500, min_cluster_size=45, min_samples=35\n",
      "Testing combination 92/100: max_df=0.500, min_cluster_size=40, min_samples=35\n",
      "Testing combination 93/100: max_df=0.650, min_cluster_size=45, min_samples=20\n"
     ]
    },
    {
     "name": "stderr",
     "output_type": "stream",
     "text": [
      "2025-08-25 04:18:11,168 - BERTopic - WARNING: Using a custom list of topic assignments may lead to errors if topic reduction techniques are used afterwards. Make sure that manually assigning topics is the last step in the pipeline.Note that topic embeddings will also be created through weightedc-TF-IDF embeddings instead of centroid embeddings.\n"
     ]
    },
    {
     "name": "stdout",
     "output_type": "stream",
     "text": [
      "Testing combination 94/100: max_df=0.600, min_cluster_size=35, min_samples=20\n"
     ]
    },
    {
     "name": "stderr",
     "output_type": "stream",
     "text": [
      "2025-08-25 04:18:59,150 - BERTopic - WARNING: Using a custom list of topic assignments may lead to errors if topic reduction techniques are used afterwards. Make sure that manually assigning topics is the last step in the pipeline.Note that topic embeddings will also be created through weightedc-TF-IDF embeddings instead of centroid embeddings.\n"
     ]
    },
    {
     "name": "stdout",
     "output_type": "stream",
     "text": [
      "Testing combination 95/100: max_df=0.700, min_cluster_size=55, min_samples=15\n"
     ]
    },
    {
     "name": "stderr",
     "output_type": "stream",
     "text": [
      "2025-08-25 04:19:46,539 - BERTopic - WARNING: Using a custom list of topic assignments may lead to errors if topic reduction techniques are used afterwards. Make sure that manually assigning topics is the last step in the pipeline.Note that topic embeddings will also be created through weightedc-TF-IDF embeddings instead of centroid embeddings.\n"
     ]
    },
    {
     "name": "stdout",
     "output_type": "stream",
     "text": [
      "Testing combination 96/100: max_df=0.750, min_cluster_size=55, min_samples=20\n"
     ]
    },
    {
     "name": "stderr",
     "output_type": "stream",
     "text": [
      "2025-08-25 04:20:32,979 - BERTopic - WARNING: Using a custom list of topic assignments may lead to errors if topic reduction techniques are used afterwards. Make sure that manually assigning topics is the last step in the pipeline.Note that topic embeddings will also be created through weightedc-TF-IDF embeddings instead of centroid embeddings.\n"
     ]
    },
    {
     "name": "stdout",
     "output_type": "stream",
     "text": [
      "Testing combination 97/100: max_df=0.700, min_cluster_size=40, min_samples=35\n",
      "Testing combination 98/100: max_df=0.600, min_cluster_size=40, min_samples=30\n"
     ]
    },
    {
     "name": "stderr",
     "output_type": "stream",
     "text": [
      "2025-08-25 04:22:03,547 - BERTopic - WARNING: Using a custom list of topic assignments may lead to errors if topic reduction techniques are used afterwards. Make sure that manually assigning topics is the last step in the pipeline.Note that topic embeddings will also be created through weightedc-TF-IDF embeddings instead of centroid embeddings.\n"
     ]
    },
    {
     "name": "stdout",
     "output_type": "stream",
     "text": [
      "Testing combination 99/100: max_df=0.700, min_cluster_size=55, min_samples=30\n",
      "Testing combination 100/100: max_df=0.650, min_cluster_size=45, min_samples=30\n",
      "\n",
      "Top 5 Parameter Combinations:\n",
      "\n",
      "Rank 1:\n",
      "max_df: 0.450, min_cluster_size: 35, min_samples: 30\n",
      "Coherence: 0.4812, Diversity: 0.7600, Silhouette: 0.0583\n",
      "Combined Score: 0.4332\n",
      "\n",
      "Rank 2:\n",
      "max_df: 0.450, min_cluster_size: 30, min_samples: 30\n",
      "Coherence: 0.4812, Diversity: 0.7600, Silhouette: 0.0583\n",
      "Combined Score: 0.4332\n",
      "\n",
      "Rank 3:\n",
      "max_df: 0.450, min_cluster_size: 40, min_samples: 30\n",
      "Coherence: 0.4812, Diversity: 0.7600, Silhouette: 0.0505\n",
      "Combined Score: 0.4305\n",
      "\n",
      "Rank 4:\n",
      "max_df: 0.900, min_cluster_size: 30, min_samples: 30\n",
      "Coherence: 0.5067, Diversity: 0.7200, Silhouette: 0.0583\n",
      "Combined Score: 0.4284\n",
      "\n",
      "Rank 5:\n",
      "max_df: 0.850, min_cluster_size: 35, min_samples: 30\n",
      "Coherence: 0.4977, Diversity: 0.7200, Silhouette: 0.0583\n",
      "Combined Score: 0.4253\n",
      "\n",
      "Grid search results saved to: e:\\Studying in Adelaide\\2_Trimester-2\\project_A_ML-Mental Health (MDS)\\LLM_NetworkMoel_MentalHealth_coding\\topic_modeling_results_suicidal_thoughts_and_self-harm.csv\n"
     ]
    }
   ],
   "source": [
    "platform = 'beyondblue'\n",
    "use_pretrained_embed = True\n",
    "original_cols = [\"Post Title\", \"Post Content\", \"Comments\"]\n",
    "min_df = 1\n",
    "max_df = 0.95\n",
    "n_neighbors = 15\n",
    "min_cluster_size = 30\n",
    "min_samples = 10\n",
    "nr_topics = 'auto'\n",
    "\n",
    "categories = [\n",
    "    {\n",
    "        \"label\": \"Anxiety\",\n",
    "        \"stopwords\": [ 'feel', 'week', 'tng', 'need', 'say', 'hard', 'good', 'sometng',\n",
    "             'work',  'help',  'talk', 'ask', 'end','start', 'people', 'month',\n",
    "             'thought', 'way', 'anytng','day','make','year','everytng','fly',\n",
    "             'experience', 'health', 'drive', 'feeling', 'kind', 'manage', 'mental',\n",
    "             'understand', 'mind', 'new', 'hear', 'right','lm','tell', 'hello','body',\n",
    "             'meet','past','self','follow','try','walk','wiht','use','act','welcome',\n",
    "             'support', 'hope',  'post', 'sound', 'long', 'let', 'worry', 'stay', 'situation',\n",
    "             'lot','mean', 'learn','person', 'friend', 'fear', 'family', 'love', 'share',\n",
    "             'psychologist', 'mental health', 'change', 'speak', 'read', 'lead','leave',\n",
    "             'anymore', 'notng', 'remember', 'believe', 'moment', 'step','reacng','sorry hear',\n",
    "             'kind regard', 'regard sope', 'counsellor', 'kind regard sope', 'openness', 'warm',\n",
    "             'wasng','lol', 'simply', 'sope', 'dear','soon', 'happy','stop', 'easy', 'happen',\n",
    "             'point','advice','safe', 'seek', 'idont','tnke', 'listen', 'ksimp', 'thank reacng',\n",
    "             'psyccs','rx','tl','wle','gh','emij','jt','tonywk','turn','plan','normal','welcome forum',\n",
    "             \n",
    "]\n",
    "    },\n",
    "    {\n",
    "        \"label\": \"Depression\",\n",
    "        \"stopwords\": ['sleep', 'kind', 'good', 'love', 'need', 'sometng', 'feel', 'talk', 'home',\n",
    "           'tng', 'everytng', 'anytng', 'notng', 'self','people', 'work', 'way',\n",
    "            'tell',  'experience', 'health','make','help', 'say',\n",
    "            'day','right', 'hear', 'lead','thought', 've','end','week','use',\n",
    "            'word','ask','come', 'sure','mean','lot', 'believe','gh' , 'month','situation',\n",
    "            'psychologist','happy', 'old', 'emotion', 'moment', 'sope','sorry hear', \n",
    "            'service', 'regard sope', 'listen', 'welcome forum', 'reacng','lm','ime',\n",
    "            'think', 'similar', 'step', 'write', 'learn','form', 'ability', 'begin',\n",
    "            'claim', 'anymore','head','belief','wle','hard', 'story', 'turn','close',\n",
    "             'wonder','mind','change', 'text', 'mself','kind regard','place', 'point',\n",
    "            'stay', 'idea','year', 'idk','mental health','sound','know', 'problem','post', \n",
    "            'mum','little']\n",
    "    },\n",
    "    {\n",
    "        \"label\": \"PTSD and trauma\",\n",
    "        \"stopwords\": ['tng', 'love', 'good', 'need', 'way',  'feel', 'talk', 'sometng','help',\n",
    "           'people', 'work', 'tell',  'hope',  'sorry','hard', 'right','say','end',\n",
    "           'week','everytng', 'anytng','gh', 'make','mh','feeling', 'thought', 'situation',\n",
    "           'hear', 'long','past', 'like','person', 'mind','ask', 'womb', 'welcome',\n",
    "           'use','sort', 'result', 'write','day','mean','friendsp','self','start',\n",
    "           'let', 'kind', 'mental', 'spl', 'noella','lifea','mental health', 'change', 'believe',\n",
    "           'happy', 'old', 'reacng','symptom','process', 'moment','dear kate', 'act', 'psychologist',\n",
    "           'similar', 'cldren','reply', 'stay',  'sorry hear','sope','accept', 'word',\n",
    "           'matthew', 'sorry hear', 'face', 'maxnotkat','lead', 'service','relationsp','ptsd',\n",
    "           'share', 'story', 'wle', 'read','know','timtam','pinklightne','hello pinklightne',\n",
    "           'wiht', 'psycatrist', 'cope', 'place','mum', 'learn','dear', 'dad','month','point',\n",
    "           'stop', 'question','near', 'practice practice', 'issue','idea', 'reason',\n",
    "           'jupiter', 'parent','welcome forum','comp','sarah xx','forward', 'method','wonder', \n",
    "           'step', 'notng', 'ppl','blue','myprofile', 'speak', 'emotion', 'seek','black cloud', \n",
    "            'real','jemma', 'frank', 'year', 'sound', 'think','early'    ]\n",
    "    },\n",
    "    {\n",
    "        \"label\": \"Suicidal thoughts and self-harm\",\n",
    "        \"stopwords\": ['tng', 'need', 'good', 'feel', 'talk', 'friend', 'love', 'hear', 'family', 'tell',\n",
    "           'way', 'make', 'sometng', 'self', 'say',  'end','support', 'post', 'understand',\n",
    "           'live', 'service', 'experience', 'leave', 'sound', 'welcome', 'long', 'let',\n",
    "            'mental health', 'anytng', 'everytng','use', 'wonder','thought','anymore','work',\n",
    "            'hard', 'hope', 'day', 'feeling', 'mental', 'right', 'person','sope', 'reacng',\n",
    "            'sorry hear','start', 'write','sh thought', 'skill', 'look', 'mean','people', \n",
    "            'try', 'care', 'health',  'kind',  'moment','year', 'week', 'ask','mind','lucys',\n",
    "            'variable','kalice', 'nice story','okpitch', 'sit', 'dear okpitch','notng', 'calli',\n",
    "            'tiah', 'stay', 'jessksch','tony', 'old','mum', 'beekay','tnke','place', 'tonywk','mh',\n",
    "            'step','feellike','idont','qld','past','month','speak','situation', 'problem',\n",
    "            'change', 'relationsp', 'happy','believe','listen', 'strength','learn','seek',\n",
    "             'change','sair','roadsend', 'regard sope','lead', 'plan', 'water','truly','matter',\n",
    "            'question', 'reason', 'issue','tom','issue', 'read', 'little', 'face', 'idea', 'therapy',\n",
    "            'world', 'psychologist','undecided uneasy hesitant']\n",
    "    }\n",
    "]\n",
    "\n",
    "# Run grid search for all categories\n",
    "all_top_5 = {}\n",
    "for cat in categories:\n",
    "    print(f\"\\n\\n=== Processing category: {cat['label']} ===\\n\")\n",
    "    top_5_results = topic_modeling(\n",
    "        platform=platform,\n",
    "        label=cat['label'],\n",
    "        original_cols=original_cols,\n",
    "        stopwords=cat['stopwords'],\n",
    "        min_df=min_df,\n",
    "        max_df=max_df,\n",
    "        n_neighbors=n_neighbors,\n",
    "        min_cluster_size=min_cluster_size,\n",
    "        min_samples=min_samples,\n",
    "        nr_topics=nr_topics,\n",
    "        use_pretrained_embed=use_pretrained_embed,\n",
    "        n_samples=100\n",
    "    )\n",
    "    all_top_5[cat['label']] = top_5_results"
   ]
  },
  {
   "cell_type": "code",
   "execution_count": 1,
   "id": "b9d3aeaf",
   "metadata": {},
   "outputs": [
    {
     "name": "stdout",
     "output_type": "stream",
     "text": [
      "Anxiety - Highest Coherence Score:\n",
      "max_df               0.800000\n",
      "min_cluster_size    55.000000\n",
      "min_samples         30.000000\n",
      "coherence            0.543862\n",
      "diversity            0.714286\n",
      "silhouette          -0.003057\n",
      "combined_score       0.418364\n",
      "Name: 38, dtype: float64\n",
      "\n",
      "Depression - Highest Coherence Score:\n",
      "max_df               0.450000\n",
      "min_cluster_size    35.000000\n",
      "min_samples         30.000000\n",
      "coherence            0.501826\n",
      "diversity            0.771429\n",
      "silhouette           0.029738\n",
      "combined_score       0.434331\n",
      "Name: 0, dtype: float64\n",
      "\n",
      "PTSD and Trauma - Highest Coherence Score:\n",
      "max_df               0.400000\n",
      "min_cluster_size    55.000000\n",
      "min_samples         35.000000\n",
      "coherence            0.482274\n",
      "diversity            0.600000\n",
      "silhouette          -0.023162\n",
      "combined_score       0.353037\n",
      "Name: 6, dtype: float64\n",
      "\n",
      "Suicidal Thoughts and Self-Harm - Highest Coherence Score:\n",
      "max_df               0.550000\n",
      "min_cluster_size    55.000000\n",
      "min_samples         25.000000\n",
      "coherence            0.565117\n",
      "diversity            0.600000\n",
      "silhouette           0.047089\n",
      "combined_score       0.404069\n",
      "Name: 23, dtype: float64\n"
     ]
    }
   ],
   "source": [
    "\n",
    "import pandas as pd\n",
    "\n",
    "#read topic_modeling_results_anxiety.csv file\n",
    "\n",
    "anxiety_df = pd.read_csv('topic_modeling_results_anxiety.csv')\n",
    "depression_df = pd.read_csv('topic_modeling_results_depression.csv')\n",
    "ptsd_df = pd.read_csv('topic_modeling_results_ptsd_and_trauma.csv')\n",
    "suicidal_df = pd.read_csv('topic_modeling_results_suicidal_thoughts_and_self-harm.csv')\n",
    "\n",
    "\n",
    "\n",
    "# print the rows with the highest coherence score for each dataframe\n",
    "print(\"Anxiety - Highest Coherence Score:\")\n",
    "print(anxiety_df.loc[anxiety_df['coherence'].idxmax()])\n",
    "print(\"\\nDepression - Highest Coherence Score:\")\n",
    "print(depression_df.loc[depression_df['coherence'].idxmax()])\n",
    "print(\"\\nPTSD and Trauma - Highest Coherence Score:\")\n",
    "print(ptsd_df.loc[ptsd_df['coherence'].idxmax()])\n",
    "print(\"\\nSuicidal Thoughts and Self-Harm - Highest Coherence Score:\")\n",
    "print(suicidal_df.loc[suicidal_df['coherence'].idxmax()])\n"
   ]
  }
 ],
 "metadata": {
  "kernelspec": {
   "display_name": "MDS1",
   "language": "python",
   "name": "python3"
  },
  "language_info": {
   "codemirror_mode": {
    "name": "ipython",
    "version": 3
   },
   "file_extension": ".py",
   "mimetype": "text/x-python",
   "name": "python",
   "nbconvert_exporter": "python",
   "pygments_lexer": "ipython3",
   "version": "3.11.13"
  }
 },
 "nbformat": 4,
 "nbformat_minor": 5
}
